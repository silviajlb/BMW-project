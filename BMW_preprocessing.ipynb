{
  "nbformat": 4,
  "nbformat_minor": 0,
  "metadata": {
    "colab": {
      "provenance": [],
      "toc_visible": true,
      "mount_file_id": "15cUpdxANZnXiw121XBq19Ebi5na_ILcw",
      "authorship_tag": "ABX9TyN00EP4irGQYPqklAlob1eU",
      "include_colab_link": true
    },
    "kernelspec": {
      "name": "python3",
      "display_name": "Python 3"
    },
    "language_info": {
      "name": "python"
    }
  },
  "cells": [
    {
      "cell_type": "markdown",
      "metadata": {
        "id": "view-in-github",
        "colab_type": "text"
      },
      "source": [
        "<a href=\"https://colab.research.google.com/github/silviajlb/BMW-project/blob/main/BMW_preprocessing.ipynb\" target=\"_parent\"><img src=\"https://colab.research.google.com/assets/colab-badge.svg\" alt=\"Open In Colab\"/></a>"
      ]
    },
    {
      "cell_type": "markdown",
      "source": [
        "# Importación de datos y librerías"
      ],
      "metadata": {
        "id": "CEF45Z173ieH"
      }
    },
    {
      "cell_type": "code",
      "source": [
        "# Datos\n",
        "import pandas as pd\n",
        "import numpy as np\n",
        "\n",
        "#Visualización\n",
        "import matplotlib.pyplot as plt\n",
        "import seaborn as sns\n",
        "\n",
        "# Preprocessing\n",
        "from sklearn.preprocessing import MinMaxScaler"
      ],
      "metadata": {
        "id": "exfcpsFM4s-u"
      },
      "execution_count": 548,
      "outputs": []
    },
    {
      "cell_type": "code",
      "source": [
        "from google.colab import drive\n",
        "drive.mount('/content/drive')"
      ],
      "metadata": {
        "colab": {
          "base_uri": "https://localhost:8080/"
        },
        "id": "C2ZegoWPy2uy",
        "outputId": "4397f267-81a2-4d1c-ebb7-52b2e841bf9d"
      },
      "execution_count": 549,
      "outputs": [
        {
          "output_type": "stream",
          "name": "stdout",
          "text": [
            "Drive already mounted at /content/drive; to attempt to forcibly remount, call drive.mount(\"/content/drive\", force_remount=True).\n"
          ]
        }
      ]
    },
    {
      "cell_type": "code",
      "execution_count": 550,
      "metadata": {
        "id": "Cf3BeLHI3h7Y"
      },
      "outputs": [],
      "source": [
        "df_bmw = pd.read_csv(\"/content/drive/MyDrive/Nuclio/M3. Data Analytics y Business Intelligence/Entregable 1/bmw_pricing_v3.csv\")"
      ]
    },
    {
      "cell_type": "code",
      "source": [
        "df_bmw.head()"
      ],
      "metadata": {
        "colab": {
          "base_uri": "https://localhost:8080/",
          "height": 226
        },
        "id": "qSoB22RoB1q5",
        "outputId": "59fc1b72-8a74-4dff-ab67-e48d1f3f99c3"
      },
      "execution_count": 551,
      "outputs": [
        {
          "output_type": "execute_result",
          "data": {
            "text/plain": [
              "  marca modelo        km  potencia fecha_registro tipo_gasolina   color  \\\n",
              "0   NaN    118  140411.0     100.0     2012-02-01        diesel   black   \n",
              "1   BMW     M4   13929.0     317.0            NaN        petrol    grey   \n",
              "2   BMW    320  183297.0     120.0     2012-04-01        diesel   white   \n",
              "3   BMW    420  128035.0     135.0            NaN        diesel     red   \n",
              "4   BMW    425   97097.0     160.0            NaN        diesel  silver   \n",
              "\n",
              "    tipo_coche volante_regulable aire_acondicionado camara_trasera  \\\n",
              "0          NaN              True               True          False   \n",
              "1  convertible              True               True          False   \n",
              "2          NaN             False              False          False   \n",
              "3  convertible              True               True          False   \n",
              "4          NaN              True               True          False   \n",
              "\n",
              "  asientos_traseros_plegables elevalunas_electrico bluetooth   gps  \\\n",
              "0                         NaN                 True       NaN  True   \n",
              "1                         NaN                False      True  True   \n",
              "2                         NaN                 True     False  True   \n",
              "3                         NaN                 True      True  True   \n",
              "4                       False                False      True  True   \n",
              "\n",
              "  alerta_lim_velocidad   precio fecha_venta  \n",
              "0                  NaN  11300.0  2018-01-01  \n",
              "1                 True  69700.0  2018-02-01  \n",
              "2                False  10200.0  2018-02-01  \n",
              "3                  NaN  25100.0  2018-02-01  \n",
              "4                 True  33400.0  2018-04-01  "
            ],
            "text/html": [
              "\n",
              "  <div id=\"df-062d4edf-2ed4-4417-a8ef-77561326b16e\" class=\"colab-df-container\">\n",
              "    <div>\n",
              "<style scoped>\n",
              "    .dataframe tbody tr th:only-of-type {\n",
              "        vertical-align: middle;\n",
              "    }\n",
              "\n",
              "    .dataframe tbody tr th {\n",
              "        vertical-align: top;\n",
              "    }\n",
              "\n",
              "    .dataframe thead th {\n",
              "        text-align: right;\n",
              "    }\n",
              "</style>\n",
              "<table border=\"1\" class=\"dataframe\">\n",
              "  <thead>\n",
              "    <tr style=\"text-align: right;\">\n",
              "      <th></th>\n",
              "      <th>marca</th>\n",
              "      <th>modelo</th>\n",
              "      <th>km</th>\n",
              "      <th>potencia</th>\n",
              "      <th>fecha_registro</th>\n",
              "      <th>tipo_gasolina</th>\n",
              "      <th>color</th>\n",
              "      <th>tipo_coche</th>\n",
              "      <th>volante_regulable</th>\n",
              "      <th>aire_acondicionado</th>\n",
              "      <th>camara_trasera</th>\n",
              "      <th>asientos_traseros_plegables</th>\n",
              "      <th>elevalunas_electrico</th>\n",
              "      <th>bluetooth</th>\n",
              "      <th>gps</th>\n",
              "      <th>alerta_lim_velocidad</th>\n",
              "      <th>precio</th>\n",
              "      <th>fecha_venta</th>\n",
              "    </tr>\n",
              "  </thead>\n",
              "  <tbody>\n",
              "    <tr>\n",
              "      <th>0</th>\n",
              "      <td>NaN</td>\n",
              "      <td>118</td>\n",
              "      <td>140411.0</td>\n",
              "      <td>100.0</td>\n",
              "      <td>2012-02-01</td>\n",
              "      <td>diesel</td>\n",
              "      <td>black</td>\n",
              "      <td>NaN</td>\n",
              "      <td>True</td>\n",
              "      <td>True</td>\n",
              "      <td>False</td>\n",
              "      <td>NaN</td>\n",
              "      <td>True</td>\n",
              "      <td>NaN</td>\n",
              "      <td>True</td>\n",
              "      <td>NaN</td>\n",
              "      <td>11300.0</td>\n",
              "      <td>2018-01-01</td>\n",
              "    </tr>\n",
              "    <tr>\n",
              "      <th>1</th>\n",
              "      <td>BMW</td>\n",
              "      <td>M4</td>\n",
              "      <td>13929.0</td>\n",
              "      <td>317.0</td>\n",
              "      <td>NaN</td>\n",
              "      <td>petrol</td>\n",
              "      <td>grey</td>\n",
              "      <td>convertible</td>\n",
              "      <td>True</td>\n",
              "      <td>True</td>\n",
              "      <td>False</td>\n",
              "      <td>NaN</td>\n",
              "      <td>False</td>\n",
              "      <td>True</td>\n",
              "      <td>True</td>\n",
              "      <td>True</td>\n",
              "      <td>69700.0</td>\n",
              "      <td>2018-02-01</td>\n",
              "    </tr>\n",
              "    <tr>\n",
              "      <th>2</th>\n",
              "      <td>BMW</td>\n",
              "      <td>320</td>\n",
              "      <td>183297.0</td>\n",
              "      <td>120.0</td>\n",
              "      <td>2012-04-01</td>\n",
              "      <td>diesel</td>\n",
              "      <td>white</td>\n",
              "      <td>NaN</td>\n",
              "      <td>False</td>\n",
              "      <td>False</td>\n",
              "      <td>False</td>\n",
              "      <td>NaN</td>\n",
              "      <td>True</td>\n",
              "      <td>False</td>\n",
              "      <td>True</td>\n",
              "      <td>False</td>\n",
              "      <td>10200.0</td>\n",
              "      <td>2018-02-01</td>\n",
              "    </tr>\n",
              "    <tr>\n",
              "      <th>3</th>\n",
              "      <td>BMW</td>\n",
              "      <td>420</td>\n",
              "      <td>128035.0</td>\n",
              "      <td>135.0</td>\n",
              "      <td>NaN</td>\n",
              "      <td>diesel</td>\n",
              "      <td>red</td>\n",
              "      <td>convertible</td>\n",
              "      <td>True</td>\n",
              "      <td>True</td>\n",
              "      <td>False</td>\n",
              "      <td>NaN</td>\n",
              "      <td>True</td>\n",
              "      <td>True</td>\n",
              "      <td>True</td>\n",
              "      <td>NaN</td>\n",
              "      <td>25100.0</td>\n",
              "      <td>2018-02-01</td>\n",
              "    </tr>\n",
              "    <tr>\n",
              "      <th>4</th>\n",
              "      <td>BMW</td>\n",
              "      <td>425</td>\n",
              "      <td>97097.0</td>\n",
              "      <td>160.0</td>\n",
              "      <td>NaN</td>\n",
              "      <td>diesel</td>\n",
              "      <td>silver</td>\n",
              "      <td>NaN</td>\n",
              "      <td>True</td>\n",
              "      <td>True</td>\n",
              "      <td>False</td>\n",
              "      <td>False</td>\n",
              "      <td>False</td>\n",
              "      <td>True</td>\n",
              "      <td>True</td>\n",
              "      <td>True</td>\n",
              "      <td>33400.0</td>\n",
              "      <td>2018-04-01</td>\n",
              "    </tr>\n",
              "  </tbody>\n",
              "</table>\n",
              "</div>\n",
              "    <div class=\"colab-df-buttons\">\n",
              "\n",
              "  <div class=\"colab-df-container\">\n",
              "    <button class=\"colab-df-convert\" onclick=\"convertToInteractive('df-062d4edf-2ed4-4417-a8ef-77561326b16e')\"\n",
              "            title=\"Convert this dataframe to an interactive table.\"\n",
              "            style=\"display:none;\">\n",
              "\n",
              "  <svg xmlns=\"http://www.w3.org/2000/svg\" height=\"24px\" viewBox=\"0 -960 960 960\">\n",
              "    <path d=\"M120-120v-720h720v720H120Zm60-500h600v-160H180v160Zm220 220h160v-160H400v160Zm0 220h160v-160H400v160ZM180-400h160v-160H180v160Zm440 0h160v-160H620v160ZM180-180h160v-160H180v160Zm440 0h160v-160H620v160Z\"/>\n",
              "  </svg>\n",
              "    </button>\n",
              "\n",
              "  <style>\n",
              "    .colab-df-container {\n",
              "      display:flex;\n",
              "      gap: 12px;\n",
              "    }\n",
              "\n",
              "    .colab-df-convert {\n",
              "      background-color: #E8F0FE;\n",
              "      border: none;\n",
              "      border-radius: 50%;\n",
              "      cursor: pointer;\n",
              "      display: none;\n",
              "      fill: #1967D2;\n",
              "      height: 32px;\n",
              "      padding: 0 0 0 0;\n",
              "      width: 32px;\n",
              "    }\n",
              "\n",
              "    .colab-df-convert:hover {\n",
              "      background-color: #E2EBFA;\n",
              "      box-shadow: 0px 1px 2px rgba(60, 64, 67, 0.3), 0px 1px 3px 1px rgba(60, 64, 67, 0.15);\n",
              "      fill: #174EA6;\n",
              "    }\n",
              "\n",
              "    .colab-df-buttons div {\n",
              "      margin-bottom: 4px;\n",
              "    }\n",
              "\n",
              "    [theme=dark] .colab-df-convert {\n",
              "      background-color: #3B4455;\n",
              "      fill: #D2E3FC;\n",
              "    }\n",
              "\n",
              "    [theme=dark] .colab-df-convert:hover {\n",
              "      background-color: #434B5C;\n",
              "      box-shadow: 0px 1px 3px 1px rgba(0, 0, 0, 0.15);\n",
              "      filter: drop-shadow(0px 1px 2px rgba(0, 0, 0, 0.3));\n",
              "      fill: #FFFFFF;\n",
              "    }\n",
              "  </style>\n",
              "\n",
              "    <script>\n",
              "      const buttonEl =\n",
              "        document.querySelector('#df-062d4edf-2ed4-4417-a8ef-77561326b16e button.colab-df-convert');\n",
              "      buttonEl.style.display =\n",
              "        google.colab.kernel.accessAllowed ? 'block' : 'none';\n",
              "\n",
              "      async function convertToInteractive(key) {\n",
              "        const element = document.querySelector('#df-062d4edf-2ed4-4417-a8ef-77561326b16e');\n",
              "        const dataTable =\n",
              "          await google.colab.kernel.invokeFunction('convertToInteractive',\n",
              "                                                    [key], {});\n",
              "        if (!dataTable) return;\n",
              "\n",
              "        const docLinkHtml = 'Like what you see? Visit the ' +\n",
              "          '<a target=\"_blank\" href=https://colab.research.google.com/notebooks/data_table.ipynb>data table notebook</a>'\n",
              "          + ' to learn more about interactive tables.';\n",
              "        element.innerHTML = '';\n",
              "        dataTable['output_type'] = 'display_data';\n",
              "        await google.colab.output.renderOutput(dataTable, element);\n",
              "        const docLink = document.createElement('div');\n",
              "        docLink.innerHTML = docLinkHtml;\n",
              "        element.appendChild(docLink);\n",
              "      }\n",
              "    </script>\n",
              "  </div>\n",
              "\n",
              "\n",
              "<div id=\"df-60dc3975-72ec-49e1-86c7-1dd31598cf4d\">\n",
              "  <button class=\"colab-df-quickchart\" onclick=\"quickchart('df-60dc3975-72ec-49e1-86c7-1dd31598cf4d')\"\n",
              "            title=\"Suggest charts\"\n",
              "            style=\"display:none;\">\n",
              "\n",
              "<svg xmlns=\"http://www.w3.org/2000/svg\" height=\"24px\"viewBox=\"0 0 24 24\"\n",
              "     width=\"24px\">\n",
              "    <g>\n",
              "        <path d=\"M19 3H5c-1.1 0-2 .9-2 2v14c0 1.1.9 2 2 2h14c1.1 0 2-.9 2-2V5c0-1.1-.9-2-2-2zM9 17H7v-7h2v7zm4 0h-2V7h2v10zm4 0h-2v-4h2v4z\"/>\n",
              "    </g>\n",
              "</svg>\n",
              "  </button>\n",
              "\n",
              "<style>\n",
              "  .colab-df-quickchart {\n",
              "      --bg-color: #E8F0FE;\n",
              "      --fill-color: #1967D2;\n",
              "      --hover-bg-color: #E2EBFA;\n",
              "      --hover-fill-color: #174EA6;\n",
              "      --disabled-fill-color: #AAA;\n",
              "      --disabled-bg-color: #DDD;\n",
              "  }\n",
              "\n",
              "  [theme=dark] .colab-df-quickchart {\n",
              "      --bg-color: #3B4455;\n",
              "      --fill-color: #D2E3FC;\n",
              "      --hover-bg-color: #434B5C;\n",
              "      --hover-fill-color: #FFFFFF;\n",
              "      --disabled-bg-color: #3B4455;\n",
              "      --disabled-fill-color: #666;\n",
              "  }\n",
              "\n",
              "  .colab-df-quickchart {\n",
              "    background-color: var(--bg-color);\n",
              "    border: none;\n",
              "    border-radius: 50%;\n",
              "    cursor: pointer;\n",
              "    display: none;\n",
              "    fill: var(--fill-color);\n",
              "    height: 32px;\n",
              "    padding: 0;\n",
              "    width: 32px;\n",
              "  }\n",
              "\n",
              "  .colab-df-quickchart:hover {\n",
              "    background-color: var(--hover-bg-color);\n",
              "    box-shadow: 0 1px 2px rgba(60, 64, 67, 0.3), 0 1px 3px 1px rgba(60, 64, 67, 0.15);\n",
              "    fill: var(--button-hover-fill-color);\n",
              "  }\n",
              "\n",
              "  .colab-df-quickchart-complete:disabled,\n",
              "  .colab-df-quickchart-complete:disabled:hover {\n",
              "    background-color: var(--disabled-bg-color);\n",
              "    fill: var(--disabled-fill-color);\n",
              "    box-shadow: none;\n",
              "  }\n",
              "\n",
              "  .colab-df-spinner {\n",
              "    border: 2px solid var(--fill-color);\n",
              "    border-color: transparent;\n",
              "    border-bottom-color: var(--fill-color);\n",
              "    animation:\n",
              "      spin 1s steps(1) infinite;\n",
              "  }\n",
              "\n",
              "  @keyframes spin {\n",
              "    0% {\n",
              "      border-color: transparent;\n",
              "      border-bottom-color: var(--fill-color);\n",
              "      border-left-color: var(--fill-color);\n",
              "    }\n",
              "    20% {\n",
              "      border-color: transparent;\n",
              "      border-left-color: var(--fill-color);\n",
              "      border-top-color: var(--fill-color);\n",
              "    }\n",
              "    30% {\n",
              "      border-color: transparent;\n",
              "      border-left-color: var(--fill-color);\n",
              "      border-top-color: var(--fill-color);\n",
              "      border-right-color: var(--fill-color);\n",
              "    }\n",
              "    40% {\n",
              "      border-color: transparent;\n",
              "      border-right-color: var(--fill-color);\n",
              "      border-top-color: var(--fill-color);\n",
              "    }\n",
              "    60% {\n",
              "      border-color: transparent;\n",
              "      border-right-color: var(--fill-color);\n",
              "    }\n",
              "    80% {\n",
              "      border-color: transparent;\n",
              "      border-right-color: var(--fill-color);\n",
              "      border-bottom-color: var(--fill-color);\n",
              "    }\n",
              "    90% {\n",
              "      border-color: transparent;\n",
              "      border-bottom-color: var(--fill-color);\n",
              "    }\n",
              "  }\n",
              "</style>\n",
              "\n",
              "  <script>\n",
              "    async function quickchart(key) {\n",
              "      const quickchartButtonEl =\n",
              "        document.querySelector('#' + key + ' button');\n",
              "      quickchartButtonEl.disabled = true;  // To prevent multiple clicks.\n",
              "      quickchartButtonEl.classList.add('colab-df-spinner');\n",
              "      try {\n",
              "        const charts = await google.colab.kernel.invokeFunction(\n",
              "            'suggestCharts', [key], {});\n",
              "      } catch (error) {\n",
              "        console.error('Error during call to suggestCharts:', error);\n",
              "      }\n",
              "      quickchartButtonEl.classList.remove('colab-df-spinner');\n",
              "      quickchartButtonEl.classList.add('colab-df-quickchart-complete');\n",
              "    }\n",
              "    (() => {\n",
              "      let quickchartButtonEl =\n",
              "        document.querySelector('#df-60dc3975-72ec-49e1-86c7-1dd31598cf4d button');\n",
              "      quickchartButtonEl.style.display =\n",
              "        google.colab.kernel.accessAllowed ? 'block' : 'none';\n",
              "    })();\n",
              "  </script>\n",
              "</div>\n",
              "    </div>\n",
              "  </div>\n"
            ]
          },
          "metadata": {},
          "execution_count": 551
        }
      ]
    },
    {
      "cell_type": "markdown",
      "source": [
        "Muevo la columna precio al princpio de todo para verla claramente"
      ],
      "metadata": {
        "id": "mLiV1KObmTLY"
      }
    },
    {
      "cell_type": "code",
      "source": [
        "nuevas_columnas = ['precio'] + [col for col in df_bmw.columns if col != 'precio']\n",
        "df_bmw = df_bmw[nuevas_columnas]\n",
        "df_bmw.head()"
      ],
      "metadata": {
        "colab": {
          "base_uri": "https://localhost:8080/",
          "height": 226
        },
        "id": "BsBURtVbmSvE",
        "outputId": "baef96f9-e848-4e36-dcd8-b3b5821c4b85"
      },
      "execution_count": 552,
      "outputs": [
        {
          "output_type": "execute_result",
          "data": {
            "text/plain": [
              "    precio marca modelo        km  potencia fecha_registro tipo_gasolina  \\\n",
              "0  11300.0   NaN    118  140411.0     100.0     2012-02-01        diesel   \n",
              "1  69700.0   BMW     M4   13929.0     317.0            NaN        petrol   \n",
              "2  10200.0   BMW    320  183297.0     120.0     2012-04-01        diesel   \n",
              "3  25100.0   BMW    420  128035.0     135.0            NaN        diesel   \n",
              "4  33400.0   BMW    425   97097.0     160.0            NaN        diesel   \n",
              "\n",
              "    color   tipo_coche volante_regulable aire_acondicionado camara_trasera  \\\n",
              "0   black          NaN              True               True          False   \n",
              "1    grey  convertible              True               True          False   \n",
              "2   white          NaN             False              False          False   \n",
              "3     red  convertible              True               True          False   \n",
              "4  silver          NaN              True               True          False   \n",
              "\n",
              "  asientos_traseros_plegables elevalunas_electrico bluetooth   gps  \\\n",
              "0                         NaN                 True       NaN  True   \n",
              "1                         NaN                False      True  True   \n",
              "2                         NaN                 True     False  True   \n",
              "3                         NaN                 True      True  True   \n",
              "4                       False                False      True  True   \n",
              "\n",
              "  alerta_lim_velocidad fecha_venta  \n",
              "0                  NaN  2018-01-01  \n",
              "1                 True  2018-02-01  \n",
              "2                False  2018-02-01  \n",
              "3                  NaN  2018-02-01  \n",
              "4                 True  2018-04-01  "
            ],
            "text/html": [
              "\n",
              "  <div id=\"df-d4bf1cf5-24ef-42d0-b233-93c68cea570a\" class=\"colab-df-container\">\n",
              "    <div>\n",
              "<style scoped>\n",
              "    .dataframe tbody tr th:only-of-type {\n",
              "        vertical-align: middle;\n",
              "    }\n",
              "\n",
              "    .dataframe tbody tr th {\n",
              "        vertical-align: top;\n",
              "    }\n",
              "\n",
              "    .dataframe thead th {\n",
              "        text-align: right;\n",
              "    }\n",
              "</style>\n",
              "<table border=\"1\" class=\"dataframe\">\n",
              "  <thead>\n",
              "    <tr style=\"text-align: right;\">\n",
              "      <th></th>\n",
              "      <th>precio</th>\n",
              "      <th>marca</th>\n",
              "      <th>modelo</th>\n",
              "      <th>km</th>\n",
              "      <th>potencia</th>\n",
              "      <th>fecha_registro</th>\n",
              "      <th>tipo_gasolina</th>\n",
              "      <th>color</th>\n",
              "      <th>tipo_coche</th>\n",
              "      <th>volante_regulable</th>\n",
              "      <th>aire_acondicionado</th>\n",
              "      <th>camara_trasera</th>\n",
              "      <th>asientos_traseros_plegables</th>\n",
              "      <th>elevalunas_electrico</th>\n",
              "      <th>bluetooth</th>\n",
              "      <th>gps</th>\n",
              "      <th>alerta_lim_velocidad</th>\n",
              "      <th>fecha_venta</th>\n",
              "    </tr>\n",
              "  </thead>\n",
              "  <tbody>\n",
              "    <tr>\n",
              "      <th>0</th>\n",
              "      <td>11300.0</td>\n",
              "      <td>NaN</td>\n",
              "      <td>118</td>\n",
              "      <td>140411.0</td>\n",
              "      <td>100.0</td>\n",
              "      <td>2012-02-01</td>\n",
              "      <td>diesel</td>\n",
              "      <td>black</td>\n",
              "      <td>NaN</td>\n",
              "      <td>True</td>\n",
              "      <td>True</td>\n",
              "      <td>False</td>\n",
              "      <td>NaN</td>\n",
              "      <td>True</td>\n",
              "      <td>NaN</td>\n",
              "      <td>True</td>\n",
              "      <td>NaN</td>\n",
              "      <td>2018-01-01</td>\n",
              "    </tr>\n",
              "    <tr>\n",
              "      <th>1</th>\n",
              "      <td>69700.0</td>\n",
              "      <td>BMW</td>\n",
              "      <td>M4</td>\n",
              "      <td>13929.0</td>\n",
              "      <td>317.0</td>\n",
              "      <td>NaN</td>\n",
              "      <td>petrol</td>\n",
              "      <td>grey</td>\n",
              "      <td>convertible</td>\n",
              "      <td>True</td>\n",
              "      <td>True</td>\n",
              "      <td>False</td>\n",
              "      <td>NaN</td>\n",
              "      <td>False</td>\n",
              "      <td>True</td>\n",
              "      <td>True</td>\n",
              "      <td>True</td>\n",
              "      <td>2018-02-01</td>\n",
              "    </tr>\n",
              "    <tr>\n",
              "      <th>2</th>\n",
              "      <td>10200.0</td>\n",
              "      <td>BMW</td>\n",
              "      <td>320</td>\n",
              "      <td>183297.0</td>\n",
              "      <td>120.0</td>\n",
              "      <td>2012-04-01</td>\n",
              "      <td>diesel</td>\n",
              "      <td>white</td>\n",
              "      <td>NaN</td>\n",
              "      <td>False</td>\n",
              "      <td>False</td>\n",
              "      <td>False</td>\n",
              "      <td>NaN</td>\n",
              "      <td>True</td>\n",
              "      <td>False</td>\n",
              "      <td>True</td>\n",
              "      <td>False</td>\n",
              "      <td>2018-02-01</td>\n",
              "    </tr>\n",
              "    <tr>\n",
              "      <th>3</th>\n",
              "      <td>25100.0</td>\n",
              "      <td>BMW</td>\n",
              "      <td>420</td>\n",
              "      <td>128035.0</td>\n",
              "      <td>135.0</td>\n",
              "      <td>NaN</td>\n",
              "      <td>diesel</td>\n",
              "      <td>red</td>\n",
              "      <td>convertible</td>\n",
              "      <td>True</td>\n",
              "      <td>True</td>\n",
              "      <td>False</td>\n",
              "      <td>NaN</td>\n",
              "      <td>True</td>\n",
              "      <td>True</td>\n",
              "      <td>True</td>\n",
              "      <td>NaN</td>\n",
              "      <td>2018-02-01</td>\n",
              "    </tr>\n",
              "    <tr>\n",
              "      <th>4</th>\n",
              "      <td>33400.0</td>\n",
              "      <td>BMW</td>\n",
              "      <td>425</td>\n",
              "      <td>97097.0</td>\n",
              "      <td>160.0</td>\n",
              "      <td>NaN</td>\n",
              "      <td>diesel</td>\n",
              "      <td>silver</td>\n",
              "      <td>NaN</td>\n",
              "      <td>True</td>\n",
              "      <td>True</td>\n",
              "      <td>False</td>\n",
              "      <td>False</td>\n",
              "      <td>False</td>\n",
              "      <td>True</td>\n",
              "      <td>True</td>\n",
              "      <td>True</td>\n",
              "      <td>2018-04-01</td>\n",
              "    </tr>\n",
              "  </tbody>\n",
              "</table>\n",
              "</div>\n",
              "    <div class=\"colab-df-buttons\">\n",
              "\n",
              "  <div class=\"colab-df-container\">\n",
              "    <button class=\"colab-df-convert\" onclick=\"convertToInteractive('df-d4bf1cf5-24ef-42d0-b233-93c68cea570a')\"\n",
              "            title=\"Convert this dataframe to an interactive table.\"\n",
              "            style=\"display:none;\">\n",
              "\n",
              "  <svg xmlns=\"http://www.w3.org/2000/svg\" height=\"24px\" viewBox=\"0 -960 960 960\">\n",
              "    <path d=\"M120-120v-720h720v720H120Zm60-500h600v-160H180v160Zm220 220h160v-160H400v160Zm0 220h160v-160H400v160ZM180-400h160v-160H180v160Zm440 0h160v-160H620v160ZM180-180h160v-160H180v160Zm440 0h160v-160H620v160Z\"/>\n",
              "  </svg>\n",
              "    </button>\n",
              "\n",
              "  <style>\n",
              "    .colab-df-container {\n",
              "      display:flex;\n",
              "      gap: 12px;\n",
              "    }\n",
              "\n",
              "    .colab-df-convert {\n",
              "      background-color: #E8F0FE;\n",
              "      border: none;\n",
              "      border-radius: 50%;\n",
              "      cursor: pointer;\n",
              "      display: none;\n",
              "      fill: #1967D2;\n",
              "      height: 32px;\n",
              "      padding: 0 0 0 0;\n",
              "      width: 32px;\n",
              "    }\n",
              "\n",
              "    .colab-df-convert:hover {\n",
              "      background-color: #E2EBFA;\n",
              "      box-shadow: 0px 1px 2px rgba(60, 64, 67, 0.3), 0px 1px 3px 1px rgba(60, 64, 67, 0.15);\n",
              "      fill: #174EA6;\n",
              "    }\n",
              "\n",
              "    .colab-df-buttons div {\n",
              "      margin-bottom: 4px;\n",
              "    }\n",
              "\n",
              "    [theme=dark] .colab-df-convert {\n",
              "      background-color: #3B4455;\n",
              "      fill: #D2E3FC;\n",
              "    }\n",
              "\n",
              "    [theme=dark] .colab-df-convert:hover {\n",
              "      background-color: #434B5C;\n",
              "      box-shadow: 0px 1px 3px 1px rgba(0, 0, 0, 0.15);\n",
              "      filter: drop-shadow(0px 1px 2px rgba(0, 0, 0, 0.3));\n",
              "      fill: #FFFFFF;\n",
              "    }\n",
              "  </style>\n",
              "\n",
              "    <script>\n",
              "      const buttonEl =\n",
              "        document.querySelector('#df-d4bf1cf5-24ef-42d0-b233-93c68cea570a button.colab-df-convert');\n",
              "      buttonEl.style.display =\n",
              "        google.colab.kernel.accessAllowed ? 'block' : 'none';\n",
              "\n",
              "      async function convertToInteractive(key) {\n",
              "        const element = document.querySelector('#df-d4bf1cf5-24ef-42d0-b233-93c68cea570a');\n",
              "        const dataTable =\n",
              "          await google.colab.kernel.invokeFunction('convertToInteractive',\n",
              "                                                    [key], {});\n",
              "        if (!dataTable) return;\n",
              "\n",
              "        const docLinkHtml = 'Like what you see? Visit the ' +\n",
              "          '<a target=\"_blank\" href=https://colab.research.google.com/notebooks/data_table.ipynb>data table notebook</a>'\n",
              "          + ' to learn more about interactive tables.';\n",
              "        element.innerHTML = '';\n",
              "        dataTable['output_type'] = 'display_data';\n",
              "        await google.colab.output.renderOutput(dataTable, element);\n",
              "        const docLink = document.createElement('div');\n",
              "        docLink.innerHTML = docLinkHtml;\n",
              "        element.appendChild(docLink);\n",
              "      }\n",
              "    </script>\n",
              "  </div>\n",
              "\n",
              "\n",
              "<div id=\"df-bae45d5f-64fc-4cd3-b7b3-3c257414c682\">\n",
              "  <button class=\"colab-df-quickchart\" onclick=\"quickchart('df-bae45d5f-64fc-4cd3-b7b3-3c257414c682')\"\n",
              "            title=\"Suggest charts\"\n",
              "            style=\"display:none;\">\n",
              "\n",
              "<svg xmlns=\"http://www.w3.org/2000/svg\" height=\"24px\"viewBox=\"0 0 24 24\"\n",
              "     width=\"24px\">\n",
              "    <g>\n",
              "        <path d=\"M19 3H5c-1.1 0-2 .9-2 2v14c0 1.1.9 2 2 2h14c1.1 0 2-.9 2-2V5c0-1.1-.9-2-2-2zM9 17H7v-7h2v7zm4 0h-2V7h2v10zm4 0h-2v-4h2v4z\"/>\n",
              "    </g>\n",
              "</svg>\n",
              "  </button>\n",
              "\n",
              "<style>\n",
              "  .colab-df-quickchart {\n",
              "      --bg-color: #E8F0FE;\n",
              "      --fill-color: #1967D2;\n",
              "      --hover-bg-color: #E2EBFA;\n",
              "      --hover-fill-color: #174EA6;\n",
              "      --disabled-fill-color: #AAA;\n",
              "      --disabled-bg-color: #DDD;\n",
              "  }\n",
              "\n",
              "  [theme=dark] .colab-df-quickchart {\n",
              "      --bg-color: #3B4455;\n",
              "      --fill-color: #D2E3FC;\n",
              "      --hover-bg-color: #434B5C;\n",
              "      --hover-fill-color: #FFFFFF;\n",
              "      --disabled-bg-color: #3B4455;\n",
              "      --disabled-fill-color: #666;\n",
              "  }\n",
              "\n",
              "  .colab-df-quickchart {\n",
              "    background-color: var(--bg-color);\n",
              "    border: none;\n",
              "    border-radius: 50%;\n",
              "    cursor: pointer;\n",
              "    display: none;\n",
              "    fill: var(--fill-color);\n",
              "    height: 32px;\n",
              "    padding: 0;\n",
              "    width: 32px;\n",
              "  }\n",
              "\n",
              "  .colab-df-quickchart:hover {\n",
              "    background-color: var(--hover-bg-color);\n",
              "    box-shadow: 0 1px 2px rgba(60, 64, 67, 0.3), 0 1px 3px 1px rgba(60, 64, 67, 0.15);\n",
              "    fill: var(--button-hover-fill-color);\n",
              "  }\n",
              "\n",
              "  .colab-df-quickchart-complete:disabled,\n",
              "  .colab-df-quickchart-complete:disabled:hover {\n",
              "    background-color: var(--disabled-bg-color);\n",
              "    fill: var(--disabled-fill-color);\n",
              "    box-shadow: none;\n",
              "  }\n",
              "\n",
              "  .colab-df-spinner {\n",
              "    border: 2px solid var(--fill-color);\n",
              "    border-color: transparent;\n",
              "    border-bottom-color: var(--fill-color);\n",
              "    animation:\n",
              "      spin 1s steps(1) infinite;\n",
              "  }\n",
              "\n",
              "  @keyframes spin {\n",
              "    0% {\n",
              "      border-color: transparent;\n",
              "      border-bottom-color: var(--fill-color);\n",
              "      border-left-color: var(--fill-color);\n",
              "    }\n",
              "    20% {\n",
              "      border-color: transparent;\n",
              "      border-left-color: var(--fill-color);\n",
              "      border-top-color: var(--fill-color);\n",
              "    }\n",
              "    30% {\n",
              "      border-color: transparent;\n",
              "      border-left-color: var(--fill-color);\n",
              "      border-top-color: var(--fill-color);\n",
              "      border-right-color: var(--fill-color);\n",
              "    }\n",
              "    40% {\n",
              "      border-color: transparent;\n",
              "      border-right-color: var(--fill-color);\n",
              "      border-top-color: var(--fill-color);\n",
              "    }\n",
              "    60% {\n",
              "      border-color: transparent;\n",
              "      border-right-color: var(--fill-color);\n",
              "    }\n",
              "    80% {\n",
              "      border-color: transparent;\n",
              "      border-right-color: var(--fill-color);\n",
              "      border-bottom-color: var(--fill-color);\n",
              "    }\n",
              "    90% {\n",
              "      border-color: transparent;\n",
              "      border-bottom-color: var(--fill-color);\n",
              "    }\n",
              "  }\n",
              "</style>\n",
              "\n",
              "  <script>\n",
              "    async function quickchart(key) {\n",
              "      const quickchartButtonEl =\n",
              "        document.querySelector('#' + key + ' button');\n",
              "      quickchartButtonEl.disabled = true;  // To prevent multiple clicks.\n",
              "      quickchartButtonEl.classList.add('colab-df-spinner');\n",
              "      try {\n",
              "        const charts = await google.colab.kernel.invokeFunction(\n",
              "            'suggestCharts', [key], {});\n",
              "      } catch (error) {\n",
              "        console.error('Error during call to suggestCharts:', error);\n",
              "      }\n",
              "      quickchartButtonEl.classList.remove('colab-df-spinner');\n",
              "      quickchartButtonEl.classList.add('colab-df-quickchart-complete');\n",
              "    }\n",
              "    (() => {\n",
              "      let quickchartButtonEl =\n",
              "        document.querySelector('#df-bae45d5f-64fc-4cd3-b7b3-3c257414c682 button');\n",
              "      quickchartButtonEl.style.display =\n",
              "        google.colab.kernel.accessAllowed ? 'block' : 'none';\n",
              "    })();\n",
              "  </script>\n",
              "</div>\n",
              "    </div>\n",
              "  </div>\n"
            ]
          },
          "metadata": {},
          "execution_count": 552
        }
      ]
    },
    {
      "cell_type": "markdown",
      "source": [
        "Duplicados"
      ],
      "metadata": {
        "id": "glTXM86bQSLE"
      }
    },
    {
      "cell_type": "code",
      "source": [
        "df_bmw[df_bmw.duplicated(keep = False)]"
      ],
      "metadata": {
        "colab": {
          "base_uri": "https://localhost:8080/",
          "height": 73
        },
        "id": "LriOAIjk36SD",
        "outputId": "40e741aa-8044-4d38-d7ed-3b678860693c"
      },
      "execution_count": 553,
      "outputs": [
        {
          "output_type": "execute_result",
          "data": {
            "text/plain": [
              "Empty DataFrame\n",
              "Columns: [precio, marca, modelo, km, potencia, fecha_registro, tipo_gasolina, color, tipo_coche, volante_regulable, aire_acondicionado, camara_trasera, asientos_traseros_plegables, elevalunas_electrico, bluetooth, gps, alerta_lim_velocidad, fecha_venta]\n",
              "Index: []"
            ],
            "text/html": [
              "\n",
              "  <div id=\"df-54ac8d79-194e-41f9-89ce-33acc443c5e7\" class=\"colab-df-container\">\n",
              "    <div>\n",
              "<style scoped>\n",
              "    .dataframe tbody tr th:only-of-type {\n",
              "        vertical-align: middle;\n",
              "    }\n",
              "\n",
              "    .dataframe tbody tr th {\n",
              "        vertical-align: top;\n",
              "    }\n",
              "\n",
              "    .dataframe thead th {\n",
              "        text-align: right;\n",
              "    }\n",
              "</style>\n",
              "<table border=\"1\" class=\"dataframe\">\n",
              "  <thead>\n",
              "    <tr style=\"text-align: right;\">\n",
              "      <th></th>\n",
              "      <th>precio</th>\n",
              "      <th>marca</th>\n",
              "      <th>modelo</th>\n",
              "      <th>km</th>\n",
              "      <th>potencia</th>\n",
              "      <th>fecha_registro</th>\n",
              "      <th>tipo_gasolina</th>\n",
              "      <th>color</th>\n",
              "      <th>tipo_coche</th>\n",
              "      <th>volante_regulable</th>\n",
              "      <th>aire_acondicionado</th>\n",
              "      <th>camara_trasera</th>\n",
              "      <th>asientos_traseros_plegables</th>\n",
              "      <th>elevalunas_electrico</th>\n",
              "      <th>bluetooth</th>\n",
              "      <th>gps</th>\n",
              "      <th>alerta_lim_velocidad</th>\n",
              "      <th>fecha_venta</th>\n",
              "    </tr>\n",
              "  </thead>\n",
              "  <tbody>\n",
              "  </tbody>\n",
              "</table>\n",
              "</div>\n",
              "    <div class=\"colab-df-buttons\">\n",
              "\n",
              "  <div class=\"colab-df-container\">\n",
              "    <button class=\"colab-df-convert\" onclick=\"convertToInteractive('df-54ac8d79-194e-41f9-89ce-33acc443c5e7')\"\n",
              "            title=\"Convert this dataframe to an interactive table.\"\n",
              "            style=\"display:none;\">\n",
              "\n",
              "  <svg xmlns=\"http://www.w3.org/2000/svg\" height=\"24px\" viewBox=\"0 -960 960 960\">\n",
              "    <path d=\"M120-120v-720h720v720H120Zm60-500h600v-160H180v160Zm220 220h160v-160H400v160Zm0 220h160v-160H400v160ZM180-400h160v-160H180v160Zm440 0h160v-160H620v160ZM180-180h160v-160H180v160Zm440 0h160v-160H620v160Z\"/>\n",
              "  </svg>\n",
              "    </button>\n",
              "\n",
              "  <style>\n",
              "    .colab-df-container {\n",
              "      display:flex;\n",
              "      gap: 12px;\n",
              "    }\n",
              "\n",
              "    .colab-df-convert {\n",
              "      background-color: #E8F0FE;\n",
              "      border: none;\n",
              "      border-radius: 50%;\n",
              "      cursor: pointer;\n",
              "      display: none;\n",
              "      fill: #1967D2;\n",
              "      height: 32px;\n",
              "      padding: 0 0 0 0;\n",
              "      width: 32px;\n",
              "    }\n",
              "\n",
              "    .colab-df-convert:hover {\n",
              "      background-color: #E2EBFA;\n",
              "      box-shadow: 0px 1px 2px rgba(60, 64, 67, 0.3), 0px 1px 3px 1px rgba(60, 64, 67, 0.15);\n",
              "      fill: #174EA6;\n",
              "    }\n",
              "\n",
              "    .colab-df-buttons div {\n",
              "      margin-bottom: 4px;\n",
              "    }\n",
              "\n",
              "    [theme=dark] .colab-df-convert {\n",
              "      background-color: #3B4455;\n",
              "      fill: #D2E3FC;\n",
              "    }\n",
              "\n",
              "    [theme=dark] .colab-df-convert:hover {\n",
              "      background-color: #434B5C;\n",
              "      box-shadow: 0px 1px 3px 1px rgba(0, 0, 0, 0.15);\n",
              "      filter: drop-shadow(0px 1px 2px rgba(0, 0, 0, 0.3));\n",
              "      fill: #FFFFFF;\n",
              "    }\n",
              "  </style>\n",
              "\n",
              "    <script>\n",
              "      const buttonEl =\n",
              "        document.querySelector('#df-54ac8d79-194e-41f9-89ce-33acc443c5e7 button.colab-df-convert');\n",
              "      buttonEl.style.display =\n",
              "        google.colab.kernel.accessAllowed ? 'block' : 'none';\n",
              "\n",
              "      async function convertToInteractive(key) {\n",
              "        const element = document.querySelector('#df-54ac8d79-194e-41f9-89ce-33acc443c5e7');\n",
              "        const dataTable =\n",
              "          await google.colab.kernel.invokeFunction('convertToInteractive',\n",
              "                                                    [key], {});\n",
              "        if (!dataTable) return;\n",
              "\n",
              "        const docLinkHtml = 'Like what you see? Visit the ' +\n",
              "          '<a target=\"_blank\" href=https://colab.research.google.com/notebooks/data_table.ipynb>data table notebook</a>'\n",
              "          + ' to learn more about interactive tables.';\n",
              "        element.innerHTML = '';\n",
              "        dataTable['output_type'] = 'display_data';\n",
              "        await google.colab.output.renderOutput(dataTable, element);\n",
              "        const docLink = document.createElement('div');\n",
              "        docLink.innerHTML = docLinkHtml;\n",
              "        element.appendChild(docLink);\n",
              "      }\n",
              "    </script>\n",
              "  </div>\n",
              "\n",
              "    </div>\n",
              "  </div>\n"
            ]
          },
          "metadata": {},
          "execution_count": 553
        }
      ]
    },
    {
      "cell_type": "markdown",
      "source": [
        "# Paso 1. Columnas eliminadas\n",
        "¿Qué columnas eliminaron inicialmente del dataset y por qué?\n",
        "\n",
        "\n",
        "> *R: Inicialmente podemos ver que hay una columna llamada 'marca' que no tiene mucho sentido ya que la base de datos es de la marca BMW, por si acaso vemos los valores que se encuentran dentro, y efectivamente solo existe un tipo de dato llamado 'bmw' así que la eliminamos*\n",
        "\n"
      ],
      "metadata": {
        "id": "FqxW5DQ13mQ-"
      }
    },
    {
      "cell_type": "code",
      "source": [
        "#La columna 'marca' no tiene sentido ya que la base de datos es de BMW, pero para asegurarnos haremos la siguiente función\n",
        "df_bmw['marca'].value_counts()"
      ],
      "metadata": {
        "colab": {
          "base_uri": "https://localhost:8080/"
        },
        "id": "66Hv5yo_8A2S",
        "outputId": "74a8f040-df64-4c94-896a-50490aaac5d7"
      },
      "execution_count": 554,
      "outputs": [
        {
          "output_type": "execute_result",
          "data": {
            "text/plain": [
              "BMW    3873\n",
              "Name: marca, dtype: int64"
            ]
          },
          "metadata": {},
          "execution_count": 554
        }
      ]
    },
    {
      "cell_type": "code",
      "source": [
        "del df_bmw['marca']"
      ],
      "metadata": {
        "id": "Ew9fdWo6AzZJ"
      },
      "execution_count": 555,
      "outputs": []
    },
    {
      "cell_type": "markdown",
      "source": [
        "# Paso 2 Nulos\n",
        "\n",
        "Manejo de nulos, explicar qué se hizo con los nulos por cada columna\n",
        "\n",
        "Nota: Como tenemos un df muy pequeño intentaremos no eliminar filas en lo medida de lo posible\n",
        "\n",
        ">*Pimero he eliminado las filas con nulos en el precio ya que no tenía ningún sentido tener nulos en la variable que queremos predecir.\n",
        "Lo segundo que he hecho ha sido eliminar una columna con un 70% de nulos ya que me parecía un número muy alto de nulos como para inventarmelo.\n",
        "Una vez hecho esto en la columna 'modelo' he rellenado los nulos haciendo la moda. He comenzado rellenando los nulos de esta columna porque el resto de columnas las rellenaré haciendo una moda pero agrupando por 'modelo'.\n",
        "Por último me han quedado 5 nulos en df sin rellenar bien, esto se debe a que no todos los grupos de modelos tenian modas en todas las columnas. Así que he aplicado una moda de la columna sin agrupar nada.*\n",
        "\n"
      ],
      "metadata": {
        "id": "L9KH2nJN3qO4"
      }
    },
    {
      "cell_type": "code",
      "source": [
        "df_bmw1 = df_bmw.copy()"
      ],
      "metadata": {
        "id": "jkTJNCpg36nA"
      },
      "execution_count": 556,
      "outputs": []
    },
    {
      "cell_type": "code",
      "source": [
        "df_bmw1.info()"
      ],
      "metadata": {
        "colab": {
          "base_uri": "https://localhost:8080/"
        },
        "id": "VzzA7CKBzw1x",
        "outputId": "054246c9-7d36-49c0-8ab2-547371762b51"
      },
      "execution_count": 557,
      "outputs": [
        {
          "output_type": "stream",
          "name": "stdout",
          "text": [
            "<class 'pandas.core.frame.DataFrame'>\n",
            "RangeIndex: 4843 entries, 0 to 4842\n",
            "Data columns (total 17 columns):\n",
            " #   Column                       Non-Null Count  Dtype  \n",
            "---  ------                       --------------  -----  \n",
            " 0   precio                       4837 non-null   float64\n",
            " 1   modelo                       4840 non-null   object \n",
            " 2   km                           4841 non-null   float64\n",
            " 3   potencia                     4842 non-null   float64\n",
            " 4   fecha_registro               2420 non-null   object \n",
            " 5   tipo_gasolina                4838 non-null   object \n",
            " 6   color                        4398 non-null   object \n",
            " 7   tipo_coche                   3383 non-null   object \n",
            " 8   volante_regulable            4839 non-null   object \n",
            " 9   aire_acondicionado           4357 non-null   object \n",
            " 10  camara_trasera               4841 non-null   object \n",
            " 11  asientos_traseros_plegables  1452 non-null   object \n",
            " 12  elevalunas_electrico         4841 non-null   object \n",
            " 13  bluetooth                    4115 non-null   object \n",
            " 14  gps                          4843 non-null   bool   \n",
            " 15  alerta_lim_velocidad         4115 non-null   object \n",
            " 16  fecha_venta                  4842 non-null   object \n",
            "dtypes: bool(1), float64(3), object(13)\n",
            "memory usage: 610.2+ KB\n"
          ]
        }
      ]
    },
    {
      "cell_type": "code",
      "source": [
        "#Vemos el porcentaje de nulos que hay en cada columna\n",
        "df_bmw1.isnull().sum() / len(df_bmw) * 100"
      ],
      "metadata": {
        "colab": {
          "base_uri": "https://localhost:8080/"
        },
        "id": "53Zyy9DI5kVU",
        "outputId": "1c89486a-f576-4cbe-944d-236dd0b94d46"
      },
      "execution_count": 558,
      "outputs": [
        {
          "output_type": "execute_result",
          "data": {
            "text/plain": [
              "precio                          0.123890\n",
              "modelo                          0.061945\n",
              "km                              0.041297\n",
              "potencia                        0.020648\n",
              "fecha_registro                 50.030973\n",
              "tipo_gasolina                   0.103242\n",
              "color                           9.188520\n",
              "tipo_coche                     30.146603\n",
              "volante_regulable               0.082593\n",
              "aire_acondicionado             10.035102\n",
              "camara_trasera                  0.041297\n",
              "asientos_traseros_plegables    70.018584\n",
              "elevalunas_electrico            0.041297\n",
              "bluetooth                      15.032005\n",
              "gps                             0.000000\n",
              "alerta_lim_velocidad           15.032005\n",
              "fecha_venta                     0.020648\n",
              "dtype: float64"
            ]
          },
          "metadata": {},
          "execution_count": 558
        }
      ]
    },
    {
      "cell_type": "markdown",
      "source": [
        "Nulos en el target"
      ],
      "metadata": {
        "id": "cA4i8Tlr0KMF"
      }
    },
    {
      "cell_type": "code",
      "source": [
        "# En precio tenemos muy pocos nulos, además como es el valor que queremos predecir no podemos inventarnoslo, eliminaremos los nulos\n",
        "df_bmw1.dropna(axis=0, subset=['precio'], inplace=True)"
      ],
      "metadata": {
        "id": "q-gxpYnE0JBS"
      },
      "execution_count": 559,
      "outputs": []
    },
    {
      "cell_type": "code",
      "source": [
        "df_bmw1['precio'].isnull().sum()"
      ],
      "metadata": {
        "colab": {
          "base_uri": "https://localhost:8080/"
        },
        "id": "2fjjnb9g0pak",
        "outputId": "e857ed71-65ad-4815-b11c-b3677c0ec464"
      },
      "execution_count": 560,
      "outputs": [
        {
          "output_type": "execute_result",
          "data": {
            "text/plain": [
              "0"
            ]
          },
          "metadata": {},
          "execution_count": 560
        }
      ]
    },
    {
      "cell_type": "markdown",
      "source": [
        "Nulos que forman un 70% de los datos"
      ],
      "metadata": {
        "id": "GtJ6nwzg6pAZ"
      }
    },
    {
      "cell_type": "code",
      "source": [
        "del df_bmw1['asientos_traseros_plegables']"
      ],
      "metadata": {
        "id": "QoyOXIhL6sY2"
      },
      "execution_count": 561,
      "outputs": []
    },
    {
      "cell_type": "markdown",
      "source": [
        "Nulos en modelo"
      ],
      "metadata": {
        "id": "E60NyMiq-f1e"
      }
    },
    {
      "cell_type": "code",
      "source": [
        "df_bmw1['modelo'].fillna(df_bmw1['modelo'].mode()[0], inplace = True)"
      ],
      "metadata": {
        "id": "Cj3lGfMD-hZs"
      },
      "execution_count": 562,
      "outputs": []
    },
    {
      "cell_type": "code",
      "source": [
        "df_bmw1['modelo'].isnull().sum()"
      ],
      "metadata": {
        "colab": {
          "base_uri": "https://localhost:8080/"
        },
        "id": "Q3fhx9Yx-opt",
        "outputId": "ee2817d2-6d68-4727-eb1c-a69bbd94eb83"
      },
      "execution_count": 563,
      "outputs": [
        {
          "output_type": "execute_result",
          "data": {
            "text/plain": [
              "0"
            ]
          },
          "metadata": {},
          "execution_count": 563
        }
      ]
    },
    {
      "cell_type": "markdown",
      "source": [
        "Nulos en float"
      ],
      "metadata": {
        "id": "8oCQWIyR31iB"
      }
    },
    {
      "cell_type": "code",
      "source": [
        "l_float = list(df_bmw1.select_dtypes(include='float').columns)\n",
        "print('Variables numéricas:', l_float)"
      ],
      "metadata": {
        "colab": {
          "base_uri": "https://localhost:8080/"
        },
        "id": "_XqVZsCR31Ni",
        "outputId": "a734b053-84d9-492a-b49f-1777afe472bd"
      },
      "execution_count": 564,
      "outputs": [
        {
          "output_type": "stream",
          "name": "stdout",
          "text": [
            "Variables numéricas: ['precio', 'km', 'potencia']\n"
          ]
        }
      ]
    },
    {
      "cell_type": "code",
      "source": [
        "# hacemos la moda agrupando por el modelo para que sea más preciso\n",
        "\n",
        "for col in l_float:\n",
        "  df_bmw1[col].fillna(df_bmw1.groupby('modelo')[col].mean()[0], inplace = True)"
      ],
      "metadata": {
        "id": "zEHE7u554AGA"
      },
      "execution_count": 565,
      "outputs": []
    },
    {
      "cell_type": "code",
      "source": [
        "#Comprobamos\n",
        "df_bmw1.isnull().sum()"
      ],
      "metadata": {
        "colab": {
          "base_uri": "https://localhost:8080/"
        },
        "id": "QkS24FMo4Oe9",
        "outputId": "90b3662a-42ab-48e5-8800-fc98bff79771"
      },
      "execution_count": 566,
      "outputs": [
        {
          "output_type": "execute_result",
          "data": {
            "text/plain": [
              "precio                     0\n",
              "modelo                     0\n",
              "km                         0\n",
              "potencia                   0\n",
              "fecha_registro          2418\n",
              "tipo_gasolina              5\n",
              "color                    444\n",
              "tipo_coche              1458\n",
              "volante_regulable          4\n",
              "aire_acondicionado       485\n",
              "camara_trasera             2\n",
              "elevalunas_electrico       2\n",
              "bluetooth                728\n",
              "gps                        0\n",
              "alerta_lim_velocidad     728\n",
              "fecha_venta                1\n",
              "dtype: int64"
            ]
          },
          "metadata": {},
          "execution_count": 566
        }
      ]
    },
    {
      "cell_type": "markdown",
      "source": [
        "Nulos en fechas"
      ],
      "metadata": {
        "id": "GewbsvviDNfs"
      }
    },
    {
      "cell_type": "code",
      "source": [
        "# transformamos las columnas a datetime\n",
        "df_bmw1['fecha_venta'] = pd.to_datetime(df_bmw1['fecha_venta'], format='%Y-%m-%d')\n",
        "df_bmw1['fecha_registro'] = pd.to_datetime(df_bmw1['fecha_registro'], format='%Y-%m-%d')"
      ],
      "metadata": {
        "id": "jWcS30ATDunp"
      },
      "execution_count": 567,
      "outputs": []
    },
    {
      "cell_type": "code",
      "source": [
        "# Reemplazamos nulos por la moda\n",
        "moda_fecha = df_bmw1['fecha_venta'].mode().iloc[0] if not df_bmw1['fecha_venta'].mode().empty else None\n",
        "df_bmw1['fecha_venta'].fillna(moda_fecha, inplace = True)\n",
        "\n",
        "df_bmw1['fecha_venta'].isnull().sum()"
      ],
      "metadata": {
        "colab": {
          "base_uri": "https://localhost:8080/"
        },
        "id": "T7x7ExD6EeLH",
        "outputId": "886a5ecd-1c2e-4573-8f85-304abf462228"
      },
      "execution_count": 568,
      "outputs": [
        {
          "output_type": "execute_result",
          "data": {
            "text/plain": [
              "0"
            ]
          },
          "metadata": {},
          "execution_count": 568
        }
      ]
    },
    {
      "cell_type": "code",
      "source": [
        "# Reemplazamos nulos por la moda\n",
        "moda_fecha = df_bmw1['fecha_registro'].mode().iloc[0] if not df_bmw1['fecha_registro'].mode().empty else None\n",
        "df_bmw1['fecha_registro'].fillna(moda_fecha, inplace = True)\n",
        "\n",
        "df_bmw1['fecha_registro'].isnull().sum()"
      ],
      "metadata": {
        "colab": {
          "base_uri": "https://localhost:8080/"
        },
        "id": "DEjg7k6nFZCN",
        "outputId": "ce96e934-ce00-4f87-8893-e4e61c4bc7a9"
      },
      "execution_count": 569,
      "outputs": [
        {
          "output_type": "execute_result",
          "data": {
            "text/plain": [
              "0"
            ]
          },
          "metadata": {},
          "execution_count": 569
        }
      ]
    },
    {
      "cell_type": "markdown",
      "source": [
        "Nulos en categoricas"
      ],
      "metadata": {
        "id": "8jWMsO5D0af7"
      }
    },
    {
      "cell_type": "code",
      "source": [
        "l_categ = list(df_bmw1.select_dtypes(include='object').columns) # creo una lista con los categoricos\n",
        "l_categ.remove('modelo')  #elimino modelo de la lista porque haremos la moda haciendo un groupby por modelo\n",
        "l_categ"
      ],
      "metadata": {
        "colab": {
          "base_uri": "https://localhost:8080/"
        },
        "id": "DW_KPK-A_R1g",
        "outputId": "d8f32d2e-d013-4a68-db10-bfdf409cbb81"
      },
      "execution_count": 570,
      "outputs": [
        {
          "output_type": "execute_result",
          "data": {
            "text/plain": [
              "['tipo_gasolina',\n",
              " 'color',\n",
              " 'tipo_coche',\n",
              " 'volante_regulable',\n",
              " 'aire_acondicionado',\n",
              " 'camara_trasera',\n",
              " 'elevalunas_electrico',\n",
              " 'bluetooth',\n",
              " 'alerta_lim_velocidad']"
            ]
          },
          "metadata": {},
          "execution_count": 570
        }
      ]
    },
    {
      "cell_type": "code",
      "source": [
        "# Itera sobre las columnas categóricas y rellena los nulos con la moda agrupando por 'modelo'\n",
        "for col in l_categ:\n",
        "    # Calcula la moda agrupando por 'modelo' y selecciona el primer valor\n",
        "    moda_por_grupo = df_bmw1.groupby('modelo')[col].apply(lambda x: x.mode()[0] if not x.mode().empty else None)\n",
        "\n",
        "    # Usa el método transform para asignar la moda adecuada a cada fila según su grupo 'modelo'\n",
        "    df_bmw1[col] = df_bmw1[col].fillna(df_bmw1['modelo'].map(moda_por_grupo))\n"
      ],
      "metadata": {
        "id": "fB1vPfk-AGbl"
      },
      "execution_count": 571,
      "outputs": []
    },
    {
      "cell_type": "code",
      "source": [
        "df_bmw1.isnull().sum().sum()   # no todos los datos agrupando por 'modelo' tienen una moda"
      ],
      "metadata": {
        "colab": {
          "base_uri": "https://localhost:8080/"
        },
        "id": "Ctpky5-b2fzp",
        "outputId": "1e992d1c-9391-4779-bee3-6723726d24de"
      },
      "execution_count": 572,
      "outputs": [
        {
          "output_type": "execute_result",
          "data": {
            "text/plain": [
              "5"
            ]
          },
          "metadata": {},
          "execution_count": 572
        }
      ]
    },
    {
      "cell_type": "markdown",
      "source": [
        "Nulos en categóricos que no se pueden agrupar por modelo"
      ],
      "metadata": {
        "id": "Ncv3l5mqCh7d"
      }
    },
    {
      "cell_type": "code",
      "source": [
        "# como el problema es que al hacer un groupby no se ha podido aplicar la moda, haremos la moda sin aplicar el grouby\n",
        "for col in df_bmw1:\n",
        "  df_bmw1[col].fillna(df_bmw1[col].mode()[0], inplace = True)\n",
        "\n",
        "\n",
        "df_bmw1.isnull().sum().sum()"
      ],
      "metadata": {
        "colab": {
          "base_uri": "https://localhost:8080/"
        },
        "id": "V60TqHlLHkt3",
        "outputId": "f64f4fa2-1a5a-4da9-ae1a-99b76342c4be"
      },
      "execution_count": 573,
      "outputs": [
        {
          "output_type": "execute_result",
          "data": {
            "text/plain": [
              "0"
            ]
          },
          "metadata": {},
          "execution_count": 573
        }
      ]
    },
    {
      "cell_type": "markdown",
      "source": [
        "# Paso 3 Análisis univariable\n",
        "\n",
        "Análisis univariable, explicar alguna información interesante encontrada\n",
        "\n",
        "\n",
        "> Lo primero que he hecho ha sido crear una nueva columna llamada dias_antiguedad y he elliminado las dos columnas de fechas con las que la he formado\n",
        "\n",
        "\n",
        "> R: categóricas1. En modelo, tipo_gasolina y color hay valores que se repiten poco, los agruparemos en 'otros'\n",
        "2. tipo_coche la dejaré como está\n",
        "3. fecha_venta eliminaremos la columna ya que solo hay 4 ventas que no suceden en 2018\n",
        "\n",
        "> R: boleanas\n",
        "1. En bool_gpsel 93% de los valores son F solo un 7% son T. Podemos eliminar esta columna.\n",
        "2. El resto de datos me parecen suficientemente representativos\n",
        "\n",
        "> R: numéricas\n",
        "1. En la columna 'km' hemos encontrado outliers por encima del valor 0.4e+06, los hemos sustituido por la mediana(calculada sin outliers)\n",
        "2. En potencia he encontrado muchos outliers por encima de 200 pero considero que eliminarlos afectaría al modelo, ya que si es posible que un coche tenga 300CV de potencia. Y en el caso de tener esa potencia, tendría sentido que exisitiese una relación con el precioEn potencia he encontrado otros por debajo de 50 y unos cuantos más por encima de 200 los cuales he sustituido por la mediana"
      ],
      "metadata": {
        "id": "x7GaErc53sUQ"
      }
    },
    {
      "cell_type": "code",
      "source": [
        "df_bmw2 = df_bmw1.copy()"
      ],
      "metadata": {
        "id": "i_bEA2fN4ADT"
      },
      "execution_count": 574,
      "outputs": []
    },
    {
      "cell_type": "code",
      "source": [
        "df_bmw2.info()"
      ],
      "metadata": {
        "colab": {
          "base_uri": "https://localhost:8080/"
        },
        "id": "vlWDSaFy7-6n",
        "outputId": "68d80f8b-eca3-44cf-fa60-51857582ea7d"
      },
      "execution_count": 575,
      "outputs": [
        {
          "output_type": "stream",
          "name": "stdout",
          "text": [
            "<class 'pandas.core.frame.DataFrame'>\n",
            "Int64Index: 4837 entries, 0 to 4842\n",
            "Data columns (total 16 columns):\n",
            " #   Column                Non-Null Count  Dtype         \n",
            "---  ------                --------------  -----         \n",
            " 0   precio                4837 non-null   float64       \n",
            " 1   modelo                4837 non-null   object        \n",
            " 2   km                    4837 non-null   float64       \n",
            " 3   potencia              4837 non-null   float64       \n",
            " 4   fecha_registro        4837 non-null   datetime64[ns]\n",
            " 5   tipo_gasolina         4837 non-null   object        \n",
            " 6   color                 4837 non-null   object        \n",
            " 7   tipo_coche            4837 non-null   object        \n",
            " 8   volante_regulable     4837 non-null   bool          \n",
            " 9   aire_acondicionado    4837 non-null   bool          \n",
            " 10  camara_trasera        4837 non-null   bool          \n",
            " 11  elevalunas_electrico  4837 non-null   bool          \n",
            " 12  bluetooth             4837 non-null   bool          \n",
            " 13  gps                   4837 non-null   bool          \n",
            " 14  alerta_lim_velocidad  4837 non-null   bool          \n",
            " 15  fecha_venta           4837 non-null   datetime64[ns]\n",
            "dtypes: bool(7), datetime64[ns](2), float64(3), object(4)\n",
            "memory usage: 411.0+ KB\n"
          ]
        }
      ]
    },
    {
      "cell_type": "markdown",
      "source": [
        "## Creamos la columna 'dias_antiguedad'"
      ],
      "metadata": {
        "id": "T2jp4yv-JoQr"
      }
    },
    {
      "cell_type": "code",
      "source": [
        "df_bmw2['dias_antiguedad'] = df_bmw2['fecha_venta'] - df_bmw2['fecha_registro']"
      ],
      "metadata": {
        "id": "sZI7UwvOJwgZ"
      },
      "execution_count": 576,
      "outputs": []
    },
    {
      "cell_type": "code",
      "source": [
        "del df_bmw2['fecha_venta']\n",
        "del df_bmw2['fecha_registro']"
      ],
      "metadata": {
        "id": "iIq6xaPeKBO7"
      },
      "execution_count": 577,
      "outputs": []
    },
    {
      "cell_type": "code",
      "source": [
        "# comprobamos\n",
        "df_bmw2['dias_antiguedad'].head()"
      ],
      "metadata": {
        "colab": {
          "base_uri": "https://localhost:8080/"
        },
        "id": "iQsoc08tKF8s",
        "outputId": "7d9f7358-49da-4ffa-8e86-89852db11de9"
      },
      "execution_count": 578,
      "outputs": [
        {
          "output_type": "execute_result",
          "data": {
            "text/plain": [
              "0   2161 days\n",
              "1   1676 days\n",
              "2   2132 days\n",
              "3   1676 days\n",
              "4   1735 days\n",
              "Name: dias_antiguedad, dtype: timedelta64[ns]"
            ]
          },
          "metadata": {},
          "execution_count": 578
        }
      ]
    },
    {
      "cell_type": "code",
      "source": [
        "# Lo pasamos a int\n",
        "df_bmw2['dias_antiguedad'] = pd.to_timedelta(df_bmw2['dias_antiguedad']).dt.days.astype(int)"
      ],
      "metadata": {
        "id": "Fgmprqf0LMM2"
      },
      "execution_count": 579,
      "outputs": []
    },
    {
      "cell_type": "code",
      "source": [
        "df_bmw2.head()"
      ],
      "metadata": {
        "colab": {
          "base_uri": "https://localhost:8080/",
          "height": 226
        },
        "id": "seP0Dwm1LAgH",
        "outputId": "ca95592a-da55-4dbe-a30b-694a422b08a6"
      },
      "execution_count": 580,
      "outputs": [
        {
          "output_type": "execute_result",
          "data": {
            "text/plain": [
              "    precio modelo        km  potencia tipo_gasolina   color   tipo_coche  \\\n",
              "0  11300.0    118  140411.0     100.0        diesel   black    hatchback   \n",
              "1  69700.0     M4   13929.0     317.0        petrol    grey  convertible   \n",
              "2  10200.0    320  183297.0     120.0        diesel   white       estate   \n",
              "3  25100.0    420  128035.0     135.0        diesel     red  convertible   \n",
              "4  33400.0    425   97097.0     160.0        diesel  silver        coupe   \n",
              "\n",
              "   volante_regulable  aire_acondicionado  camara_trasera  \\\n",
              "0               True                True           False   \n",
              "1               True                True           False   \n",
              "2              False               False           False   \n",
              "3               True                True           False   \n",
              "4               True                True           False   \n",
              "\n",
              "   elevalunas_electrico  bluetooth   gps  alerta_lim_velocidad  \\\n",
              "0                  True      False  True                 False   \n",
              "1                 False       True  True                  True   \n",
              "2                  True      False  True                 False   \n",
              "3                  True       True  True                  True   \n",
              "4                 False       True  True                  True   \n",
              "\n",
              "   dias_antiguedad  \n",
              "0             2161  \n",
              "1             1676  \n",
              "2             2132  \n",
              "3             1676  \n",
              "4             1735  "
            ],
            "text/html": [
              "\n",
              "  <div id=\"df-2c9cffe4-06f1-4342-bb78-228a4b1882ad\" class=\"colab-df-container\">\n",
              "    <div>\n",
              "<style scoped>\n",
              "    .dataframe tbody tr th:only-of-type {\n",
              "        vertical-align: middle;\n",
              "    }\n",
              "\n",
              "    .dataframe tbody tr th {\n",
              "        vertical-align: top;\n",
              "    }\n",
              "\n",
              "    .dataframe thead th {\n",
              "        text-align: right;\n",
              "    }\n",
              "</style>\n",
              "<table border=\"1\" class=\"dataframe\">\n",
              "  <thead>\n",
              "    <tr style=\"text-align: right;\">\n",
              "      <th></th>\n",
              "      <th>precio</th>\n",
              "      <th>modelo</th>\n",
              "      <th>km</th>\n",
              "      <th>potencia</th>\n",
              "      <th>tipo_gasolina</th>\n",
              "      <th>color</th>\n",
              "      <th>tipo_coche</th>\n",
              "      <th>volante_regulable</th>\n",
              "      <th>aire_acondicionado</th>\n",
              "      <th>camara_trasera</th>\n",
              "      <th>elevalunas_electrico</th>\n",
              "      <th>bluetooth</th>\n",
              "      <th>gps</th>\n",
              "      <th>alerta_lim_velocidad</th>\n",
              "      <th>dias_antiguedad</th>\n",
              "    </tr>\n",
              "  </thead>\n",
              "  <tbody>\n",
              "    <tr>\n",
              "      <th>0</th>\n",
              "      <td>11300.0</td>\n",
              "      <td>118</td>\n",
              "      <td>140411.0</td>\n",
              "      <td>100.0</td>\n",
              "      <td>diesel</td>\n",
              "      <td>black</td>\n",
              "      <td>hatchback</td>\n",
              "      <td>True</td>\n",
              "      <td>True</td>\n",
              "      <td>False</td>\n",
              "      <td>True</td>\n",
              "      <td>False</td>\n",
              "      <td>True</td>\n",
              "      <td>False</td>\n",
              "      <td>2161</td>\n",
              "    </tr>\n",
              "    <tr>\n",
              "      <th>1</th>\n",
              "      <td>69700.0</td>\n",
              "      <td>M4</td>\n",
              "      <td>13929.0</td>\n",
              "      <td>317.0</td>\n",
              "      <td>petrol</td>\n",
              "      <td>grey</td>\n",
              "      <td>convertible</td>\n",
              "      <td>True</td>\n",
              "      <td>True</td>\n",
              "      <td>False</td>\n",
              "      <td>False</td>\n",
              "      <td>True</td>\n",
              "      <td>True</td>\n",
              "      <td>True</td>\n",
              "      <td>1676</td>\n",
              "    </tr>\n",
              "    <tr>\n",
              "      <th>2</th>\n",
              "      <td>10200.0</td>\n",
              "      <td>320</td>\n",
              "      <td>183297.0</td>\n",
              "      <td>120.0</td>\n",
              "      <td>diesel</td>\n",
              "      <td>white</td>\n",
              "      <td>estate</td>\n",
              "      <td>False</td>\n",
              "      <td>False</td>\n",
              "      <td>False</td>\n",
              "      <td>True</td>\n",
              "      <td>False</td>\n",
              "      <td>True</td>\n",
              "      <td>False</td>\n",
              "      <td>2132</td>\n",
              "    </tr>\n",
              "    <tr>\n",
              "      <th>3</th>\n",
              "      <td>25100.0</td>\n",
              "      <td>420</td>\n",
              "      <td>128035.0</td>\n",
              "      <td>135.0</td>\n",
              "      <td>diesel</td>\n",
              "      <td>red</td>\n",
              "      <td>convertible</td>\n",
              "      <td>True</td>\n",
              "      <td>True</td>\n",
              "      <td>False</td>\n",
              "      <td>True</td>\n",
              "      <td>True</td>\n",
              "      <td>True</td>\n",
              "      <td>True</td>\n",
              "      <td>1676</td>\n",
              "    </tr>\n",
              "    <tr>\n",
              "      <th>4</th>\n",
              "      <td>33400.0</td>\n",
              "      <td>425</td>\n",
              "      <td>97097.0</td>\n",
              "      <td>160.0</td>\n",
              "      <td>diesel</td>\n",
              "      <td>silver</td>\n",
              "      <td>coupe</td>\n",
              "      <td>True</td>\n",
              "      <td>True</td>\n",
              "      <td>False</td>\n",
              "      <td>False</td>\n",
              "      <td>True</td>\n",
              "      <td>True</td>\n",
              "      <td>True</td>\n",
              "      <td>1735</td>\n",
              "    </tr>\n",
              "  </tbody>\n",
              "</table>\n",
              "</div>\n",
              "    <div class=\"colab-df-buttons\">\n",
              "\n",
              "  <div class=\"colab-df-container\">\n",
              "    <button class=\"colab-df-convert\" onclick=\"convertToInteractive('df-2c9cffe4-06f1-4342-bb78-228a4b1882ad')\"\n",
              "            title=\"Convert this dataframe to an interactive table.\"\n",
              "            style=\"display:none;\">\n",
              "\n",
              "  <svg xmlns=\"http://www.w3.org/2000/svg\" height=\"24px\" viewBox=\"0 -960 960 960\">\n",
              "    <path d=\"M120-120v-720h720v720H120Zm60-500h600v-160H180v160Zm220 220h160v-160H400v160Zm0 220h160v-160H400v160ZM180-400h160v-160H180v160Zm440 0h160v-160H620v160ZM180-180h160v-160H180v160Zm440 0h160v-160H620v160Z\"/>\n",
              "  </svg>\n",
              "    </button>\n",
              "\n",
              "  <style>\n",
              "    .colab-df-container {\n",
              "      display:flex;\n",
              "      gap: 12px;\n",
              "    }\n",
              "\n",
              "    .colab-df-convert {\n",
              "      background-color: #E8F0FE;\n",
              "      border: none;\n",
              "      border-radius: 50%;\n",
              "      cursor: pointer;\n",
              "      display: none;\n",
              "      fill: #1967D2;\n",
              "      height: 32px;\n",
              "      padding: 0 0 0 0;\n",
              "      width: 32px;\n",
              "    }\n",
              "\n",
              "    .colab-df-convert:hover {\n",
              "      background-color: #E2EBFA;\n",
              "      box-shadow: 0px 1px 2px rgba(60, 64, 67, 0.3), 0px 1px 3px 1px rgba(60, 64, 67, 0.15);\n",
              "      fill: #174EA6;\n",
              "    }\n",
              "\n",
              "    .colab-df-buttons div {\n",
              "      margin-bottom: 4px;\n",
              "    }\n",
              "\n",
              "    [theme=dark] .colab-df-convert {\n",
              "      background-color: #3B4455;\n",
              "      fill: #D2E3FC;\n",
              "    }\n",
              "\n",
              "    [theme=dark] .colab-df-convert:hover {\n",
              "      background-color: #434B5C;\n",
              "      box-shadow: 0px 1px 3px 1px rgba(0, 0, 0, 0.15);\n",
              "      filter: drop-shadow(0px 1px 2px rgba(0, 0, 0, 0.3));\n",
              "      fill: #FFFFFF;\n",
              "    }\n",
              "  </style>\n",
              "\n",
              "    <script>\n",
              "      const buttonEl =\n",
              "        document.querySelector('#df-2c9cffe4-06f1-4342-bb78-228a4b1882ad button.colab-df-convert');\n",
              "      buttonEl.style.display =\n",
              "        google.colab.kernel.accessAllowed ? 'block' : 'none';\n",
              "\n",
              "      async function convertToInteractive(key) {\n",
              "        const element = document.querySelector('#df-2c9cffe4-06f1-4342-bb78-228a4b1882ad');\n",
              "        const dataTable =\n",
              "          await google.colab.kernel.invokeFunction('convertToInteractive',\n",
              "                                                    [key], {});\n",
              "        if (!dataTable) return;\n",
              "\n",
              "        const docLinkHtml = 'Like what you see? Visit the ' +\n",
              "          '<a target=\"_blank\" href=https://colab.research.google.com/notebooks/data_table.ipynb>data table notebook</a>'\n",
              "          + ' to learn more about interactive tables.';\n",
              "        element.innerHTML = '';\n",
              "        dataTable['output_type'] = 'display_data';\n",
              "        await google.colab.output.renderOutput(dataTable, element);\n",
              "        const docLink = document.createElement('div');\n",
              "        docLink.innerHTML = docLinkHtml;\n",
              "        element.appendChild(docLink);\n",
              "      }\n",
              "    </script>\n",
              "  </div>\n",
              "\n",
              "\n",
              "<div id=\"df-f764f9b3-32ba-4af4-ae9f-f252b7d2cc66\">\n",
              "  <button class=\"colab-df-quickchart\" onclick=\"quickchart('df-f764f9b3-32ba-4af4-ae9f-f252b7d2cc66')\"\n",
              "            title=\"Suggest charts\"\n",
              "            style=\"display:none;\">\n",
              "\n",
              "<svg xmlns=\"http://www.w3.org/2000/svg\" height=\"24px\"viewBox=\"0 0 24 24\"\n",
              "     width=\"24px\">\n",
              "    <g>\n",
              "        <path d=\"M19 3H5c-1.1 0-2 .9-2 2v14c0 1.1.9 2 2 2h14c1.1 0 2-.9 2-2V5c0-1.1-.9-2-2-2zM9 17H7v-7h2v7zm4 0h-2V7h2v10zm4 0h-2v-4h2v4z\"/>\n",
              "    </g>\n",
              "</svg>\n",
              "  </button>\n",
              "\n",
              "<style>\n",
              "  .colab-df-quickchart {\n",
              "      --bg-color: #E8F0FE;\n",
              "      --fill-color: #1967D2;\n",
              "      --hover-bg-color: #E2EBFA;\n",
              "      --hover-fill-color: #174EA6;\n",
              "      --disabled-fill-color: #AAA;\n",
              "      --disabled-bg-color: #DDD;\n",
              "  }\n",
              "\n",
              "  [theme=dark] .colab-df-quickchart {\n",
              "      --bg-color: #3B4455;\n",
              "      --fill-color: #D2E3FC;\n",
              "      --hover-bg-color: #434B5C;\n",
              "      --hover-fill-color: #FFFFFF;\n",
              "      --disabled-bg-color: #3B4455;\n",
              "      --disabled-fill-color: #666;\n",
              "  }\n",
              "\n",
              "  .colab-df-quickchart {\n",
              "    background-color: var(--bg-color);\n",
              "    border: none;\n",
              "    border-radius: 50%;\n",
              "    cursor: pointer;\n",
              "    display: none;\n",
              "    fill: var(--fill-color);\n",
              "    height: 32px;\n",
              "    padding: 0;\n",
              "    width: 32px;\n",
              "  }\n",
              "\n",
              "  .colab-df-quickchart:hover {\n",
              "    background-color: var(--hover-bg-color);\n",
              "    box-shadow: 0 1px 2px rgba(60, 64, 67, 0.3), 0 1px 3px 1px rgba(60, 64, 67, 0.15);\n",
              "    fill: var(--button-hover-fill-color);\n",
              "  }\n",
              "\n",
              "  .colab-df-quickchart-complete:disabled,\n",
              "  .colab-df-quickchart-complete:disabled:hover {\n",
              "    background-color: var(--disabled-bg-color);\n",
              "    fill: var(--disabled-fill-color);\n",
              "    box-shadow: none;\n",
              "  }\n",
              "\n",
              "  .colab-df-spinner {\n",
              "    border: 2px solid var(--fill-color);\n",
              "    border-color: transparent;\n",
              "    border-bottom-color: var(--fill-color);\n",
              "    animation:\n",
              "      spin 1s steps(1) infinite;\n",
              "  }\n",
              "\n",
              "  @keyframes spin {\n",
              "    0% {\n",
              "      border-color: transparent;\n",
              "      border-bottom-color: var(--fill-color);\n",
              "      border-left-color: var(--fill-color);\n",
              "    }\n",
              "    20% {\n",
              "      border-color: transparent;\n",
              "      border-left-color: var(--fill-color);\n",
              "      border-top-color: var(--fill-color);\n",
              "    }\n",
              "    30% {\n",
              "      border-color: transparent;\n",
              "      border-left-color: var(--fill-color);\n",
              "      border-top-color: var(--fill-color);\n",
              "      border-right-color: var(--fill-color);\n",
              "    }\n",
              "    40% {\n",
              "      border-color: transparent;\n",
              "      border-right-color: var(--fill-color);\n",
              "      border-top-color: var(--fill-color);\n",
              "    }\n",
              "    60% {\n",
              "      border-color: transparent;\n",
              "      border-right-color: var(--fill-color);\n",
              "    }\n",
              "    80% {\n",
              "      border-color: transparent;\n",
              "      border-right-color: var(--fill-color);\n",
              "      border-bottom-color: var(--fill-color);\n",
              "    }\n",
              "    90% {\n",
              "      border-color: transparent;\n",
              "      border-bottom-color: var(--fill-color);\n",
              "    }\n",
              "  }\n",
              "</style>\n",
              "\n",
              "  <script>\n",
              "    async function quickchart(key) {\n",
              "      const quickchartButtonEl =\n",
              "        document.querySelector('#' + key + ' button');\n",
              "      quickchartButtonEl.disabled = true;  // To prevent multiple clicks.\n",
              "      quickchartButtonEl.classList.add('colab-df-spinner');\n",
              "      try {\n",
              "        const charts = await google.colab.kernel.invokeFunction(\n",
              "            'suggestCharts', [key], {});\n",
              "      } catch (error) {\n",
              "        console.error('Error during call to suggestCharts:', error);\n",
              "      }\n",
              "      quickchartButtonEl.classList.remove('colab-df-spinner');\n",
              "      quickchartButtonEl.classList.add('colab-df-quickchart-complete');\n",
              "    }\n",
              "    (() => {\n",
              "      let quickchartButtonEl =\n",
              "        document.querySelector('#df-f764f9b3-32ba-4af4-ae9f-f252b7d2cc66 button');\n",
              "      quickchartButtonEl.style.display =\n",
              "        google.colab.kernel.accessAllowed ? 'block' : 'none';\n",
              "    })();\n",
              "  </script>\n",
              "</div>\n",
              "    </div>\n",
              "  </div>\n"
            ]
          },
          "metadata": {},
          "execution_count": 580
        }
      ]
    },
    {
      "cell_type": "markdown",
      "source": [
        "## Dividimos los tipos de datos en listas\n"
      ],
      "metadata": {
        "id": "s11TLE7NGtAw"
      }
    },
    {
      "cell_type": "code",
      "source": [
        "df_bmw3 = df_bmw2.copy()"
      ],
      "metadata": {
        "id": "PtvtAlSdJ1kT"
      },
      "execution_count": 581,
      "outputs": []
    },
    {
      "cell_type": "code",
      "source": [
        "lista_kind=['i','f', 'u', 'b']"
      ],
      "metadata": {
        "id": "RFSwQYSjHyzj"
      },
      "execution_count": 582,
      "outputs": []
    },
    {
      "cell_type": "code",
      "source": [
        "target = ['precio']\n",
        "\n",
        "def obtener_lista_variables(dataset):\n",
        "  lista_num = []\n",
        "  lista_bool = []\n",
        "  lista_cat = []\n",
        "\n",
        "  for i in dataset:\n",
        "    if (dataset[i].dtype.kind in lista_kind) and \\\n",
        "    len(dataset[i].unique()) > 2 and i not in target:\n",
        "      lista_num.append(i)\n",
        "\n",
        "    elif (dataset[i].dtype.kind in lista_kind) and \\\n",
        "    len(dataset[i].unique()) == 2 and i not in target:\n",
        "      lista_bool.append(i)\n",
        "\n",
        "    elif (dataset[i].dtype.kind == 'O') and i not in target:\n",
        "      lista_cat.append(i)\n",
        "\n",
        "  return lista_num, lista_bool, lista_cat"
      ],
      "metadata": {
        "id": "NRNH1WjzHsoH"
      },
      "execution_count": 583,
      "outputs": []
    },
    {
      "cell_type": "code",
      "source": [
        "l_num, l_bool, l_cat = obtener_lista_variables(df_bmw3)"
      ],
      "metadata": {
        "id": "5xJbdaz-MPKR"
      },
      "execution_count": 584,
      "outputs": []
    },
    {
      "cell_type": "code",
      "source": [
        "l_num"
      ],
      "metadata": {
        "colab": {
          "base_uri": "https://localhost:8080/"
        },
        "id": "TNesnKOcFt5P",
        "outputId": "ebeccbec-499e-4a29-d466-143b2b3050bd"
      },
      "execution_count": 585,
      "outputs": [
        {
          "output_type": "execute_result",
          "data": {
            "text/plain": [
              "['km', 'potencia', 'dias_antiguedad']"
            ]
          },
          "metadata": {},
          "execution_count": 585
        }
      ]
    },
    {
      "cell_type": "code",
      "source": [
        "l_bool"
      ],
      "metadata": {
        "colab": {
          "base_uri": "https://localhost:8080/"
        },
        "id": "G99Kt1VIMJ0i",
        "outputId": "cd104974-3ff1-4ae9-d56e-9c81a3a9d4b3"
      },
      "execution_count": 586,
      "outputs": [
        {
          "output_type": "execute_result",
          "data": {
            "text/plain": [
              "['volante_regulable',\n",
              " 'aire_acondicionado',\n",
              " 'camara_trasera',\n",
              " 'elevalunas_electrico',\n",
              " 'bluetooth',\n",
              " 'gps',\n",
              " 'alerta_lim_velocidad']"
            ]
          },
          "metadata": {},
          "execution_count": 586
        }
      ]
    },
    {
      "cell_type": "code",
      "source": [
        "l_cat"
      ],
      "metadata": {
        "colab": {
          "base_uri": "https://localhost:8080/"
        },
        "id": "W6vfjUEEMKOD",
        "outputId": "20226ae6-8912-4c06-b1a2-27db109e803d"
      },
      "execution_count": 587,
      "outputs": [
        {
          "output_type": "execute_result",
          "data": {
            "text/plain": [
              "['modelo', 'tipo_gasolina', 'color', 'tipo_coche']"
            ]
          },
          "metadata": {},
          "execution_count": 587
        }
      ]
    },
    {
      "cell_type": "markdown",
      "source": [
        "##Datos categóricos\n",
        "\n",
        "> 1. ***En modelo*** he agrupado los modelos que se repiten menos de 10 veces en 'otros modelos'\n",
        "2. ***tipo_gasolina*** he encontrado dos valores que significan lo mismo pero tienen diferente string 'diesel' y 'Diesel' así que los he juntado\n",
        "\n"
      ],
      "metadata": {
        "id": "ILgs0Rh85Lvq"
      }
    },
    {
      "cell_type": "code",
      "source": [
        "df_bmw4 = df_bmw3.copy()"
      ],
      "metadata": {
        "id": "wCKWmbtT4Gsn"
      },
      "execution_count": 588,
      "outputs": []
    },
    {
      "cell_type": "code",
      "source": [
        "for i in l_cat:\n",
        "  print(i, df_bmw4[i].value_counts(), '\\n')"
      ],
      "metadata": {
        "colab": {
          "base_uri": "https://localhost:8080/"
        },
        "id": "x6WkTEvE5LeK",
        "outputId": "1d329980-a990-46a1-9ed3-f4a77024e8bb"
      },
      "execution_count": 589,
      "outputs": [
        {
          "output_type": "stream",
          "name": "stdout",
          "text": [
            "modelo 320                  753\n",
            "520                  632\n",
            "318                  567\n",
            "X3                   438\n",
            "116                  358\n",
            "X1                   274\n",
            "316                  234\n",
            "X5                   231\n",
            "525                  184\n",
            "530                  157\n",
            "118                  143\n",
            "318 Gran Turismo      97\n",
            "320 Gran Turismo      73\n",
            "518                   66\n",
            "X4                    46\n",
            "535                   46\n",
            "X6                    44\n",
            "420                   43\n",
            "120                   36\n",
            "420 Gran Coupé        33\n",
            "330                   33\n",
            "730                   33\n",
            "520 Gran Turismo      23\n",
            "325                   19\n",
            "640 Gran Coupé        19\n",
            "740                   18\n",
            "530 Gran Turismo      18\n",
            "X5 M                  17\n",
            "114                   15\n",
            "218 Active Tourer     13\n",
            "M550                  12\n",
            "218                   12\n",
            "218 Gran Tourer        9\n",
            "640                    8\n",
            "418 Gran Coupé         8\n",
            "X6 M                   8\n",
            "M3                     7\n",
            "335                    7\n",
            "435 Gran Coupé         6\n",
            "Z4                     6\n",
            "528                    6\n",
            "i3                     6\n",
            "328                    5\n",
            "125                    5\n",
            "523                    4\n",
            "325 Gran Turismo       4\n",
            "430 Gran Coupé         4\n",
            "435                    4\n",
            "135                    4\n",
            "216 Gran Tourer        4\n",
            "220                    3\n",
            "X5 M50                 3\n",
            "335 Gran Turismo       3\n",
            "330 Gran Turismo       3\n",
            "216 Active Tourer      3\n",
            "M235                   3\n",
            "430                    2\n",
            "535 Gran Turismo       2\n",
            "750                    2\n",
            "425                    2\n",
            "650                    2\n",
            "M4                     2\n",
            "123                    2\n",
            "220 Active Tourer      1\n",
            "216                    1\n",
            " Active Tourer         1\n",
            "225 Active Tourer      1\n",
            "635                    1\n",
            "M5                     1\n",
            "735                    1\n",
            "ActiveHybrid 5         1\n",
            "M135                   1\n",
            "225                    1\n",
            "i8                     1\n",
            "630                    1\n",
            "214 Gran Tourer        1\n",
            "Name: modelo, dtype: int64 \n",
            "\n",
            "tipo_gasolina diesel           4630\n",
            "petrol            191\n",
            "hybrid_petrol       8\n",
            "Diesel              5\n",
            "electro             3\n",
            "Name: tipo_gasolina, dtype: int64 \n",
            "\n",
            "color black     1846\n",
            "grey      1151\n",
            "blue       657\n",
            "white      485\n",
            "brown      302\n",
            "silver     292\n",
            "red         47\n",
            "beige       37\n",
            "green       14\n",
            "orange       6\n",
            "Name: color, dtype: int64 \n",
            "\n",
            "tipo_coche estate         1820\n",
            "suv            1060\n",
            "sedan           955\n",
            "hatchback       750\n",
            "coupe            97\n",
            "subcompact       77\n",
            "convertible      39\n",
            "van              39\n",
            "Name: tipo_coche, dtype: int64 \n",
            "\n"
          ]
        }
      ]
    },
    {
      "cell_type": "markdown",
      "source": [
        "**modelo**"
      ],
      "metadata": {
        "id": "rTUFIEdMcVaZ"
      }
    },
    {
      "cell_type": "code",
      "source": [
        "pd.set_option(\"display.max_rows\", None)  #usamos esta función para que nos aparezca la lista completa\n",
        "\n",
        "df_bmw4['modelo'].value_counts()"
      ],
      "metadata": {
        "colab": {
          "base_uri": "https://localhost:8080/"
        },
        "id": "zQmLrg-GcWkh",
        "outputId": "11bab92e-66c7-42a5-dad9-899441c85d47"
      },
      "execution_count": 590,
      "outputs": [
        {
          "output_type": "execute_result",
          "data": {
            "text/plain": [
              "320                  753\n",
              "520                  632\n",
              "318                  567\n",
              "X3                   438\n",
              "116                  358\n",
              "X1                   274\n",
              "316                  234\n",
              "X5                   231\n",
              "525                  184\n",
              "530                  157\n",
              "118                  143\n",
              "318 Gran Turismo      97\n",
              "320 Gran Turismo      73\n",
              "518                   66\n",
              "X4                    46\n",
              "535                   46\n",
              "X6                    44\n",
              "420                   43\n",
              "120                   36\n",
              "420 Gran Coupé        33\n",
              "330                   33\n",
              "730                   33\n",
              "520 Gran Turismo      23\n",
              "325                   19\n",
              "640 Gran Coupé        19\n",
              "740                   18\n",
              "530 Gran Turismo      18\n",
              "X5 M                  17\n",
              "114                   15\n",
              "218 Active Tourer     13\n",
              "M550                  12\n",
              "218                   12\n",
              "218 Gran Tourer        9\n",
              "640                    8\n",
              "418 Gran Coupé         8\n",
              "X6 M                   8\n",
              "M3                     7\n",
              "335                    7\n",
              "435 Gran Coupé         6\n",
              "Z4                     6\n",
              "528                    6\n",
              "i3                     6\n",
              "328                    5\n",
              "125                    5\n",
              "523                    4\n",
              "325 Gran Turismo       4\n",
              "430 Gran Coupé         4\n",
              "435                    4\n",
              "135                    4\n",
              "216 Gran Tourer        4\n",
              "220                    3\n",
              "X5 M50                 3\n",
              "335 Gran Turismo       3\n",
              "330 Gran Turismo       3\n",
              "216 Active Tourer      3\n",
              "M235                   3\n",
              "430                    2\n",
              "535 Gran Turismo       2\n",
              "750                    2\n",
              "425                    2\n",
              "650                    2\n",
              "M4                     2\n",
              "123                    2\n",
              "220 Active Tourer      1\n",
              "216                    1\n",
              " Active Tourer         1\n",
              "225 Active Tourer      1\n",
              "635                    1\n",
              "M5                     1\n",
              "735                    1\n",
              "ActiveHybrid 5         1\n",
              "M135                   1\n",
              "225                    1\n",
              "i8                     1\n",
              "630                    1\n",
              "214 Gran Tourer        1\n",
              "Name: modelo, dtype: int64"
            ]
          },
          "metadata": {},
          "execution_count": 590
        }
      ]
    },
    {
      "cell_type": "code",
      "source": [
        "# Cambiamos los valores que aparezcan menos de 10 veces por 'otros_modelos'\n",
        "\n",
        "conteo_valores = df_bmw4['modelo'].value_counts()\n",
        "valores_menos_10veces = conteo_valores[conteo_valores < 10]\n",
        "\n",
        "df_bmw4['modelo'] = df_bmw4['modelo'].apply(lambda x: 'otros_modelos' if x in valores_menos_10veces else x)"
      ],
      "metadata": {
        "id": "Cl52Zm7QDOKQ"
      },
      "execution_count": 591,
      "outputs": []
    },
    {
      "cell_type": "markdown",
      "source": [
        "**Tipo gasolina**"
      ],
      "metadata": {
        "id": "Wsz9s8lQZ7JJ"
      }
    },
    {
      "cell_type": "code",
      "source": [
        "# Diesel tiene dos nombres uno con mayúscula y otro con minúscula\n",
        "\n",
        "df_bmw4['tipo_gasolina'] = np.where(df_bmw4['tipo_gasolina'] == 'Diesel',\n",
        "                                    'diesel',  df_bmw4['tipo_gasolina'])"
      ],
      "metadata": {
        "id": "JMEYG0hA5qWs"
      },
      "execution_count": 592,
      "outputs": []
    },
    {
      "cell_type": "code",
      "source": [
        "# comprobamos\n",
        "\n",
        "df_bmw4['tipo_gasolina'].unique()"
      ],
      "metadata": {
        "colab": {
          "base_uri": "https://localhost:8080/"
        },
        "id": "AKc9oCqcaq3B",
        "outputId": "efe9d648-ec39-43c8-f697-92e8d8f980a1"
      },
      "execution_count": 593,
      "outputs": [
        {
          "output_type": "execute_result",
          "data": {
            "text/plain": [
              "array(['diesel', 'petrol', 'hybrid_petrol', 'electro'], dtype=object)"
            ]
          },
          "metadata": {},
          "execution_count": 593
        }
      ]
    },
    {
      "cell_type": "markdown",
      "source": [
        "##Datos bool\n",
        "\n",
        "\n",
        "> 1. ***En bool_gps*** el 93% de los valores son F solo un 7% son T. Podemos eliminar esta columna.\n",
        "2. El resto de datos me parecen suficientemente representativos"
      ],
      "metadata": {
        "id": "HDfqyxI_JQLr"
      }
    },
    {
      "cell_type": "code",
      "source": [
        "for i in l_bool:\n",
        "  ax = sns.countplot(x=i, data=df_bmw4)\n",
        "\n",
        "  total = len(df_bmw4[i])\n",
        "  for p in ax.patches:\n",
        "        percentage = '{:.1f}%'.format(100 * p.get_height() / total)\n",
        "        x = p.get_x() + p.get_width() / 2\n",
        "        y = p.get_height() + 0.02\n",
        "        ax.annotate(percentage, (x, y), ha='center')\n",
        "\n",
        "  plt.title('Distribución:'+ i)\n",
        "  plt.show()"
      ],
      "metadata": {
        "colab": {
          "base_uri": "https://localhost:8080/",
          "height": 1000
        },
        "id": "DZxOuJhZwjDt",
        "outputId": "1386292b-d298-4028-baeb-0b149bbef7e4"
      },
      "execution_count": 594,
      "outputs": [
        {
          "output_type": "display_data",
          "data": {
            "text/plain": [
              "<Figure size 640x480 with 1 Axes>"
            ],
            "image/png": "[encoded data removed]"
          },
          "metadata": {}
        },
        {
          "output_type": "display_data",
          "data": {
            "text/plain": [
              "<Figure size 640x480 with 1 Axes>"
            ],
            "image/png": "[encoded data removed]"
          },
          "metadata": {}
        },
        {
          "output_type": "display_data",
          "data": {
            "text/plain": [
              "<Figure size 640x480 with 1 Axes>"
            ],
            "image/png": "[encoded data removed]"
          },
          "metadata": {}
        },
        {
          "output_type": "display_data",
          "data": {
            "text/plain": [
              "<Figure size 640x480 with 1 Axes>"
            ],
            "image/png": "[encoded data removed]"
          },
          "metadata": {}
        },
        {
          "output_type": "display_data",
          "data": {
            "text/plain": [
              "<Figure size 640x480 with 1 Axes>"
            ],
            "image/png": "[encoded data removed]"
          },
          "metadata": {}
        },
        {
          "output_type": "display_data",
          "data": {
            "text/plain": [
              "<Figure size 640x480 with 1 Axes>"
            ],
            "image/png": "[encoded data removed]"
          },
          "metadata": {}
        },
        {
          "output_type": "display_data",
          "data": {
            "text/plain": [
              "<Figure size 640x480 with 1 Axes>"
            ],
            "image/png": "[encoded data removed]"
          },
          "metadata": {}
        }
      ]
    },
    {
      "cell_type": "markdown",
      "source": [
        "**Gps**"
      ],
      "metadata": {
        "id": "qVIfz8MeK7SO"
      }
    },
    {
      "cell_type": "code",
      "source": [
        "del df_bmw4['gps']\n",
        "\n",
        "# comprobamos\n",
        "df_bmw4.head()"
      ],
      "metadata": {
        "id": "WvDC4z2tT4A-",
        "colab": {
          "base_uri": "https://localhost:8080/",
          "height": 226
        },
        "outputId": "ef8a5218-0769-4fc7-dff7-cc4a4ed9f6ed"
      },
      "execution_count": 595,
      "outputs": [
        {
          "output_type": "execute_result",
          "data": {
            "text/plain": [
              "    precio         modelo        km  potencia tipo_gasolina   color  \\\n",
              "0  11300.0            118  140411.0     100.0        diesel   black   \n",
              "1  69700.0  otros_modelos   13929.0     317.0        petrol    grey   \n",
              "2  10200.0            320  183297.0     120.0        diesel   white   \n",
              "3  25100.0            420  128035.0     135.0        diesel     red   \n",
              "4  33400.0  otros_modelos   97097.0     160.0        diesel  silver   \n",
              "\n",
              "    tipo_coche  volante_regulable  aire_acondicionado  camara_trasera  \\\n",
              "0    hatchback               True                True           False   \n",
              "1  convertible               True                True           False   \n",
              "2       estate              False               False           False   \n",
              "3  convertible               True                True           False   \n",
              "4        coupe               True                True           False   \n",
              "\n",
              "   elevalunas_electrico  bluetooth  alerta_lim_velocidad  dias_antiguedad  \n",
              "0                  True      False                 False             2161  \n",
              "1                 False       True                  True             1676  \n",
              "2                  True      False                 False             2132  \n",
              "3                  True       True                  True             1676  \n",
              "4                 False       True                  True             1735  "
            ],
            "text/html": [
              "\n",
              "  <div id=\"df-e7f19123-b7b0-49b6-a890-66c68081c767\" class=\"colab-df-container\">\n",
              "    <div>\n",
              "<style scoped>\n",
              "    .dataframe tbody tr th:only-of-type {\n",
              "        vertical-align: middle;\n",
              "    }\n",
              "\n",
              "    .dataframe tbody tr th {\n",
              "        vertical-align: top;\n",
              "    }\n",
              "\n",
              "    .dataframe thead th {\n",
              "        text-align: right;\n",
              "    }\n",
              "</style>\n",
              "<table border=\"1\" class=\"dataframe\">\n",
              "  <thead>\n",
              "    <tr style=\"text-align: right;\">\n",
              "      <th></th>\n",
              "      <th>precio</th>\n",
              "      <th>modelo</th>\n",
              "      <th>km</th>\n",
              "      <th>potencia</th>\n",
              "      <th>tipo_gasolina</th>\n",
              "      <th>color</th>\n",
              "      <th>tipo_coche</th>\n",
              "      <th>volante_regulable</th>\n",
              "      <th>aire_acondicionado</th>\n",
              "      <th>camara_trasera</th>\n",
              "      <th>elevalunas_electrico</th>\n",
              "      <th>bluetooth</th>\n",
              "      <th>alerta_lim_velocidad</th>\n",
              "      <th>dias_antiguedad</th>\n",
              "    </tr>\n",
              "  </thead>\n",
              "  <tbody>\n",
              "    <tr>\n",
              "      <th>0</th>\n",
              "      <td>11300.0</td>\n",
              "      <td>118</td>\n",
              "      <td>140411.0</td>\n",
              "      <td>100.0</td>\n",
              "      <td>diesel</td>\n",
              "      <td>black</td>\n",
              "      <td>hatchback</td>\n",
              "      <td>True</td>\n",
              "      <td>True</td>\n",
              "      <td>False</td>\n",
              "      <td>True</td>\n",
              "      <td>False</td>\n",
              "      <td>False</td>\n",
              "      <td>2161</td>\n",
              "    </tr>\n",
              "    <tr>\n",
              "      <th>1</th>\n",
              "      <td>69700.0</td>\n",
              "      <td>otros_modelos</td>\n",
              "      <td>13929.0</td>\n",
              "      <td>317.0</td>\n",
              "      <td>petrol</td>\n",
              "      <td>grey</td>\n",
              "      <td>convertible</td>\n",
              "      <td>True</td>\n",
              "      <td>True</td>\n",
              "      <td>False</td>\n",
              "      <td>False</td>\n",
              "      <td>True</td>\n",
              "      <td>True</td>\n",
              "      <td>1676</td>\n",
              "    </tr>\n",
              "    <tr>\n",
              "      <th>2</th>\n",
              "      <td>10200.0</td>\n",
              "      <td>320</td>\n",
              "      <td>183297.0</td>\n",
              "      <td>120.0</td>\n",
              "      <td>diesel</td>\n",
              "      <td>white</td>\n",
              "      <td>estate</td>\n",
              "      <td>False</td>\n",
              "      <td>False</td>\n",
              "      <td>False</td>\n",
              "      <td>True</td>\n",
              "      <td>False</td>\n",
              "      <td>False</td>\n",
              "      <td>2132</td>\n",
              "    </tr>\n",
              "    <tr>\n",
              "      <th>3</th>\n",
              "      <td>25100.0</td>\n",
              "      <td>420</td>\n",
              "      <td>128035.0</td>\n",
              "      <td>135.0</td>\n",
              "      <td>diesel</td>\n",
              "      <td>red</td>\n",
              "      <td>convertible</td>\n",
              "      <td>True</td>\n",
              "      <td>True</td>\n",
              "      <td>False</td>\n",
              "      <td>True</td>\n",
              "      <td>True</td>\n",
              "      <td>True</td>\n",
              "      <td>1676</td>\n",
              "    </tr>\n",
              "    <tr>\n",
              "      <th>4</th>\n",
              "      <td>33400.0</td>\n",
              "      <td>otros_modelos</td>\n",
              "      <td>97097.0</td>\n",
              "      <td>160.0</td>\n",
              "      <td>diesel</td>\n",
              "      <td>silver</td>\n",
              "      <td>coupe</td>\n",
              "      <td>True</td>\n",
              "      <td>True</td>\n",
              "      <td>False</td>\n",
              "      <td>False</td>\n",
              "      <td>True</td>\n",
              "      <td>True</td>\n",
              "      <td>1735</td>\n",
              "    </tr>\n",
              "  </tbody>\n",
              "</table>\n",
              "</div>\n",
              "    <div class=\"colab-df-buttons\">\n",
              "\n",
              "  <div class=\"colab-df-container\">\n",
              "    <button class=\"colab-df-convert\" onclick=\"convertToInteractive('df-e7f19123-b7b0-49b6-a890-66c68081c767')\"\n",
              "            title=\"Convert this dataframe to an interactive table.\"\n",
              "            style=\"display:none;\">\n",
              "\n",
              "  <svg xmlns=\"http://www.w3.org/2000/svg\" height=\"24px\" viewBox=\"0 -960 960 960\">\n",
              "    <path d=\"M120-120v-720h720v720H120Zm60-500h600v-160H180v160Zm220 220h160v-160H400v160Zm0 220h160v-160H400v160ZM180-400h160v-160H180v160Zm440 0h160v-160H620v160ZM180-180h160v-160H180v160Zm440 0h160v-160H620v160Z\"/>\n",
              "  </svg>\n",
              "    </button>\n",
              "\n",
              "  <style>\n",
              "    .colab-df-container {\n",
              "      display:flex;\n",
              "      gap: 12px;\n",
              "    }\n",
              "\n",
              "    .colab-df-convert {\n",
              "      background-color: #E8F0FE;\n",
              "      border: none;\n",
              "      border-radius: 50%;\n",
              "      cursor: pointer;\n",
              "      display: none;\n",
              "      fill: #1967D2;\n",
              "      height: 32px;\n",
              "      padding: 0 0 0 0;\n",
              "      width: 32px;\n",
              "    }\n",
              "\n",
              "    .colab-df-convert:hover {\n",
              "      background-color: #E2EBFA;\n",
              "      box-shadow: 0px 1px 2px rgba(60, 64, 67, 0.3), 0px 1px 3px 1px rgba(60, 64, 67, 0.15);\n",
              "      fill: #174EA6;\n",
              "    }\n",
              "\n",
              "    .colab-df-buttons div {\n",
              "      margin-bottom: 4px;\n",
              "    }\n",
              "\n",
              "    [theme=dark] .colab-df-convert {\n",
              "      background-color: #3B4455;\n",
              "      fill: #D2E3FC;\n",
              "    }\n",
              "\n",
              "    [theme=dark] .colab-df-convert:hover {\n",
              "      background-color: #434B5C;\n",
              "      box-shadow: 0px 1px 3px 1px rgba(0, 0, 0, 0.15);\n",
              "      filter: drop-shadow(0px 1px 2px rgba(0, 0, 0, 0.3));\n",
              "      fill: #FFFFFF;\n",
              "    }\n",
              "  </style>\n",
              "\n",
              "    <script>\n",
              "      const buttonEl =\n",
              "        document.querySelector('#df-e7f19123-b7b0-49b6-a890-66c68081c767 button.colab-df-convert');\n",
              "      buttonEl.style.display =\n",
              "        google.colab.kernel.accessAllowed ? 'block' : 'none';\n",
              "\n",
              "      async function convertToInteractive(key) {\n",
              "        const element = document.querySelector('#df-e7f19123-b7b0-49b6-a890-66c68081c767');\n",
              "        const dataTable =\n",
              "          await google.colab.kernel.invokeFunction('convertToInteractive',\n",
              "                                                    [key], {});\n",
              "        if (!dataTable) return;\n",
              "\n",
              "        const docLinkHtml = 'Like what you see? Visit the ' +\n",
              "          '<a target=\"_blank\" href=https://colab.research.google.com/notebooks/data_table.ipynb>data table notebook</a>'\n",
              "          + ' to learn more about interactive tables.';\n",
              "        element.innerHTML = '';\n",
              "        dataTable['output_type'] = 'display_data';\n",
              "        await google.colab.output.renderOutput(dataTable, element);\n",
              "        const docLink = document.createElement('div');\n",
              "        docLink.innerHTML = docLinkHtml;\n",
              "        element.appendChild(docLink);\n",
              "      }\n",
              "    </script>\n",
              "  </div>\n",
              "\n",
              "\n",
              "<div id=\"df-8a057a46-0c46-4e7d-bf7d-8808e2c708af\">\n",
              "  <button class=\"colab-df-quickchart\" onclick=\"quickchart('df-8a057a46-0c46-4e7d-bf7d-8808e2c708af')\"\n",
              "            title=\"Suggest charts\"\n",
              "            style=\"display:none;\">\n",
              "\n",
              "<svg xmlns=\"http://www.w3.org/2000/svg\" height=\"24px\"viewBox=\"0 0 24 24\"\n",
              "     width=\"24px\">\n",
              "    <g>\n",
              "        <path d=\"M19 3H5c-1.1 0-2 .9-2 2v14c0 1.1.9 2 2 2h14c1.1 0 2-.9 2-2V5c0-1.1-.9-2-2-2zM9 17H7v-7h2v7zm4 0h-2V7h2v10zm4 0h-2v-4h2v4z\"/>\n",
              "    </g>\n",
              "</svg>\n",
              "  </button>\n",
              "\n",
              "<style>\n",
              "  .colab-df-quickchart {\n",
              "      --bg-color: #E8F0FE;\n",
              "      --fill-color: #1967D2;\n",
              "      --hover-bg-color: #E2EBFA;\n",
              "      --hover-fill-color: #174EA6;\n",
              "      --disabled-fill-color: #AAA;\n",
              "      --disabled-bg-color: #DDD;\n",
              "  }\n",
              "\n",
              "  [theme=dark] .colab-df-quickchart {\n",
              "      --bg-color: #3B4455;\n",
              "      --fill-color: #D2E3FC;\n",
              "      --hover-bg-color: #434B5C;\n",
              "      --hover-fill-color: #FFFFFF;\n",
              "      --disabled-bg-color: #3B4455;\n",
              "      --disabled-fill-color: #666;\n",
              "  }\n",
              "\n",
              "  .colab-df-quickchart {\n",
              "    background-color: var(--bg-color);\n",
              "    border: none;\n",
              "    border-radius: 50%;\n",
              "    cursor: pointer;\n",
              "    display: none;\n",
              "    fill: var(--fill-color);\n",
              "    height: 32px;\n",
              "    padding: 0;\n",
              "    width: 32px;\n",
              "  }\n",
              "\n",
              "  .colab-df-quickchart:hover {\n",
              "    background-color: var(--hover-bg-color);\n",
              "    box-shadow: 0 1px 2px rgba(60, 64, 67, 0.3), 0 1px 3px 1px rgba(60, 64, 67, 0.15);\n",
              "    fill: var(--button-hover-fill-color);\n",
              "  }\n",
              "\n",
              "  .colab-df-quickchart-complete:disabled,\n",
              "  .colab-df-quickchart-complete:disabled:hover {\n",
              "    background-color: var(--disabled-bg-color);\n",
              "    fill: var(--disabled-fill-color);\n",
              "    box-shadow: none;\n",
              "  }\n",
              "\n",
              "  .colab-df-spinner {\n",
              "    border: 2px solid var(--fill-color);\n",
              "    border-color: transparent;\n",
              "    border-bottom-color: var(--fill-color);\n",
              "    animation:\n",
              "      spin 1s steps(1) infinite;\n",
              "  }\n",
              "\n",
              "  @keyframes spin {\n",
              "    0% {\n",
              "      border-color: transparent;\n",
              "      border-bottom-color: var(--fill-color);\n",
              "      border-left-color: var(--fill-color);\n",
              "    }\n",
              "    20% {\n",
              "      border-color: transparent;\n",
              "      border-left-color: var(--fill-color);\n",
              "      border-top-color: var(--fill-color);\n",
              "    }\n",
              "    30% {\n",
              "      border-color: transparent;\n",
              "      border-left-color: var(--fill-color);\n",
              "      border-top-color: var(--fill-color);\n",
              "      border-right-color: var(--fill-color);\n",
              "    }\n",
              "    40% {\n",
              "      border-color: transparent;\n",
              "      border-right-color: var(--fill-color);\n",
              "      border-top-color: var(--fill-color);\n",
              "    }\n",
              "    60% {\n",
              "      border-color: transparent;\n",
              "      border-right-color: var(--fill-color);\n",
              "    }\n",
              "    80% {\n",
              "      border-color: transparent;\n",
              "      border-right-color: var(--fill-color);\n",
              "      border-bottom-color: var(--fill-color);\n",
              "    }\n",
              "    90% {\n",
              "      border-color: transparent;\n",
              "      border-bottom-color: var(--fill-color);\n",
              "    }\n",
              "  }\n",
              "</style>\n",
              "\n",
              "  <script>\n",
              "    async function quickchart(key) {\n",
              "      const quickchartButtonEl =\n",
              "        document.querySelector('#' + key + ' button');\n",
              "      quickchartButtonEl.disabled = true;  // To prevent multiple clicks.\n",
              "      quickchartButtonEl.classList.add('colab-df-spinner');\n",
              "      try {\n",
              "        const charts = await google.colab.kernel.invokeFunction(\n",
              "            'suggestCharts', [key], {});\n",
              "      } catch (error) {\n",
              "        console.error('Error during call to suggestCharts:', error);\n",
              "      }\n",
              "      quickchartButtonEl.classList.remove('colab-df-spinner');\n",
              "      quickchartButtonEl.classList.add('colab-df-quickchart-complete');\n",
              "    }\n",
              "    (() => {\n",
              "      let quickchartButtonEl =\n",
              "        document.querySelector('#df-8a057a46-0c46-4e7d-bf7d-8808e2c708af button');\n",
              "      quickchartButtonEl.style.display =\n",
              "        google.colab.kernel.accessAllowed ? 'block' : 'none';\n",
              "    })();\n",
              "  </script>\n",
              "</div>\n",
              "    </div>\n",
              "  </div>\n"
            ]
          },
          "metadata": {},
          "execution_count": 595
        }
      ]
    },
    {
      "cell_type": "markdown",
      "source": [
        "##Datos numéricos\n",
        "\n",
        "\n",
        "> 1. ***En la columna 'km'*** hemos encontrado outliers por encima del valor 0.4e+06, los hemos sustituido por la mediana(calculada sin outliers)\n",
        "2. ***En potencia*** he encontrado muchos outliers por encima de 200 pero considero que eliminarlos afectaría al modelo, ya que si es posible que un coche tenga 300CV de potencia. Y en el caso de tener esa potencia, tendría sentido que exisitiese una relación con el precio\n",
        "\n"
      ],
      "metadata": {
        "id": "_-PFVNwFJZbT"
      }
    },
    {
      "cell_type": "code",
      "source": [
        "# Más tarde nos ocuparemos del precio\n",
        "df_bmw4.describe().T"
      ],
      "metadata": {
        "colab": {
          "base_uri": "https://localhost:8080/",
          "height": 175
        },
        "id": "5is-2hLwlg3w",
        "outputId": "99ce24c4-6880-4d19-88f6-28a76baeb792"
      },
      "execution_count": 596,
      "outputs": [
        {
          "output_type": "execute_result",
          "data": {
            "text/plain": [
              "                  count           mean           std     min       25%  \\\n",
              "precio           4837.0   15831.920612   9222.630708   100.0   10800.0   \n",
              "km               4837.0  140928.088691  60237.754415   -64.0  102758.0   \n",
              "potencia         4837.0     128.989043     39.009364     0.0     100.0   \n",
              "dias_antiguedad  4837.0    1863.991110    666.526066 -2161.0    1676.0   \n",
              "\n",
              "                      50%       75%        max  \n",
              "precio            14200.0   18600.0   178500.0  \n",
              "km               141063.0  175235.0  1000376.0  \n",
              "potencia            120.0     135.0      423.0  \n",
              "dias_antiguedad    1765.0    1857.0    10258.0  "
            ],
            "text/html": [
              "\n",
              "  <div id=\"df-3179eba3-f2ac-4f21-9d89-d9e72e46c1df\" class=\"colab-df-container\">\n",
              "    <div>\n",
              "<style scoped>\n",
              "    .dataframe tbody tr th:only-of-type {\n",
              "        vertical-align: middle;\n",
              "    }\n",
              "\n",
              "    .dataframe tbody tr th {\n",
              "        vertical-align: top;\n",
              "    }\n",
              "\n",
              "    .dataframe thead th {\n",
              "        text-align: right;\n",
              "    }\n",
              "</style>\n",
              "<table border=\"1\" class=\"dataframe\">\n",
              "  <thead>\n",
              "    <tr style=\"text-align: right;\">\n",
              "      <th></th>\n",
              "      <th>count</th>\n",
              "      <th>mean</th>\n",
              "      <th>std</th>\n",
              "      <th>min</th>\n",
              "      <th>25%</th>\n",
              "      <th>50%</th>\n",
              "      <th>75%</th>\n",
              "      <th>max</th>\n",
              "    </tr>\n",
              "  </thead>\n",
              "  <tbody>\n",
              "    <tr>\n",
              "      <th>precio</th>\n",
              "      <td>4837.0</td>\n",
              "      <td>15831.920612</td>\n",
              "      <td>9222.630708</td>\n",
              "      <td>100.0</td>\n",
              "      <td>10800.0</td>\n",
              "      <td>14200.0</td>\n",
              "      <td>18600.0</td>\n",
              "      <td>178500.0</td>\n",
              "    </tr>\n",
              "    <tr>\n",
              "      <th>km</th>\n",
              "      <td>4837.0</td>\n",
              "      <td>140928.088691</td>\n",
              "      <td>60237.754415</td>\n",
              "      <td>-64.0</td>\n",
              "      <td>102758.0</td>\n",
              "      <td>141063.0</td>\n",
              "      <td>175235.0</td>\n",
              "      <td>1000376.0</td>\n",
              "    </tr>\n",
              "    <tr>\n",
              "      <th>potencia</th>\n",
              "      <td>4837.0</td>\n",
              "      <td>128.989043</td>\n",
              "      <td>39.009364</td>\n",
              "      <td>0.0</td>\n",
              "      <td>100.0</td>\n",
              "      <td>120.0</td>\n",
              "      <td>135.0</td>\n",
              "      <td>423.0</td>\n",
              "    </tr>\n",
              "    <tr>\n",
              "      <th>dias_antiguedad</th>\n",
              "      <td>4837.0</td>\n",
              "      <td>1863.991110</td>\n",
              "      <td>666.526066</td>\n",
              "      <td>-2161.0</td>\n",
              "      <td>1676.0</td>\n",
              "      <td>1765.0</td>\n",
              "      <td>1857.0</td>\n",
              "      <td>10258.0</td>\n",
              "    </tr>\n",
              "  </tbody>\n",
              "</table>\n",
              "</div>\n",
              "    <div class=\"colab-df-buttons\">\n",
              "\n",
              "  <div class=\"colab-df-container\">\n",
              "    <button class=\"colab-df-convert\" onclick=\"convertToInteractive('df-3179eba3-f2ac-4f21-9d89-d9e72e46c1df')\"\n",
              "            title=\"Convert this dataframe to an interactive table.\"\n",
              "            style=\"display:none;\">\n",
              "\n",
              "  <svg xmlns=\"http://www.w3.org/2000/svg\" height=\"24px\" viewBox=\"0 -960 960 960\">\n",
              "    <path d=\"M120-120v-720h720v720H120Zm60-500h600v-160H180v160Zm220 220h160v-160H400v160Zm0 220h160v-160H400v160ZM180-400h160v-160H180v160Zm440 0h160v-160H620v160ZM180-180h160v-160H180v160Zm440 0h160v-160H620v160Z\"/>\n",
              "  </svg>\n",
              "    </button>\n",
              "\n",
              "  <style>\n",
              "    .colab-df-container {\n",
              "      display:flex;\n",
              "      gap: 12px;\n",
              "    }\n",
              "\n",
              "    .colab-df-convert {\n",
              "      background-color: #E8F0FE;\n",
              "      border: none;\n",
              "      border-radius: 50%;\n",
              "      cursor: pointer;\n",
              "      display: none;\n",
              "      fill: #1967D2;\n",
              "      height: 32px;\n",
              "      padding: 0 0 0 0;\n",
              "      width: 32px;\n",
              "    }\n",
              "\n",
              "    .colab-df-convert:hover {\n",
              "      background-color: #E2EBFA;\n",
              "      box-shadow: 0px 1px 2px rgba(60, 64, 67, 0.3), 0px 1px 3px 1px rgba(60, 64, 67, 0.15);\n",
              "      fill: #174EA6;\n",
              "    }\n",
              "\n",
              "    .colab-df-buttons div {\n",
              "      margin-bottom: 4px;\n",
              "    }\n",
              "\n",
              "    [theme=dark] .colab-df-convert {\n",
              "      background-color: #3B4455;\n",
              "      fill: #D2E3FC;\n",
              "    }\n",
              "\n",
              "    [theme=dark] .colab-df-convert:hover {\n",
              "      background-color: #434B5C;\n",
              "      box-shadow: 0px 1px 3px 1px rgba(0, 0, 0, 0.15);\n",
              "      filter: drop-shadow(0px 1px 2px rgba(0, 0, 0, 0.3));\n",
              "      fill: #FFFFFF;\n",
              "    }\n",
              "  </style>\n",
              "\n",
              "    <script>\n",
              "      const buttonEl =\n",
              "        document.querySelector('#df-3179eba3-f2ac-4f21-9d89-d9e72e46c1df button.colab-df-convert');\n",
              "      buttonEl.style.display =\n",
              "        google.colab.kernel.accessAllowed ? 'block' : 'none';\n",
              "\n",
              "      async function convertToInteractive(key) {\n",
              "        const element = document.querySelector('#df-3179eba3-f2ac-4f21-9d89-d9e72e46c1df');\n",
              "        const dataTable =\n",
              "          await google.colab.kernel.invokeFunction('convertToInteractive',\n",
              "                                                    [key], {});\n",
              "        if (!dataTable) return;\n",
              "\n",
              "        const docLinkHtml = 'Like what you see? Visit the ' +\n",
              "          '<a target=\"_blank\" href=https://colab.research.google.com/notebooks/data_table.ipynb>data table notebook</a>'\n",
              "          + ' to learn more about interactive tables.';\n",
              "        element.innerHTML = '';\n",
              "        dataTable['output_type'] = 'display_data';\n",
              "        await google.colab.output.renderOutput(dataTable, element);\n",
              "        const docLink = document.createElement('div');\n",
              "        docLink.innerHTML = docLinkHtml;\n",
              "        element.appendChild(docLink);\n",
              "      }\n",
              "    </script>\n",
              "  </div>\n",
              "\n",
              "\n",
              "<div id=\"df-af1f6f82-dd4f-4897-bb47-94f1597f7d43\">\n",
              "  <button class=\"colab-df-quickchart\" onclick=\"quickchart('df-af1f6f82-dd4f-4897-bb47-94f1597f7d43')\"\n",
              "            title=\"Suggest charts\"\n",
              "            style=\"display:none;\">\n",
              "\n",
              "<svg xmlns=\"http://www.w3.org/2000/svg\" height=\"24px\"viewBox=\"0 0 24 24\"\n",
              "     width=\"24px\">\n",
              "    <g>\n",
              "        <path d=\"M19 3H5c-1.1 0-2 .9-2 2v14c0 1.1.9 2 2 2h14c1.1 0 2-.9 2-2V5c0-1.1-.9-2-2-2zM9 17H7v-7h2v7zm4 0h-2V7h2v10zm4 0h-2v-4h2v4z\"/>\n",
              "    </g>\n",
              "</svg>\n",
              "  </button>\n",
              "\n",
              "<style>\n",
              "  .colab-df-quickchart {\n",
              "      --bg-color: #E8F0FE;\n",
              "      --fill-color: #1967D2;\n",
              "      --hover-bg-color: #E2EBFA;\n",
              "      --hover-fill-color: #174EA6;\n",
              "      --disabled-fill-color: #AAA;\n",
              "      --disabled-bg-color: #DDD;\n",
              "  }\n",
              "\n",
              "  [theme=dark] .colab-df-quickchart {\n",
              "      --bg-color: #3B4455;\n",
              "      --fill-color: #D2E3FC;\n",
              "      --hover-bg-color: #434B5C;\n",
              "      --hover-fill-color: #FFFFFF;\n",
              "      --disabled-bg-color: #3B4455;\n",
              "      --disabled-fill-color: #666;\n",
              "  }\n",
              "\n",
              "  .colab-df-quickchart {\n",
              "    background-color: var(--bg-color);\n",
              "    border: none;\n",
              "    border-radius: 50%;\n",
              "    cursor: pointer;\n",
              "    display: none;\n",
              "    fill: var(--fill-color);\n",
              "    height: 32px;\n",
              "    padding: 0;\n",
              "    width: 32px;\n",
              "  }\n",
              "\n",
              "  .colab-df-quickchart:hover {\n",
              "    background-color: var(--hover-bg-color);\n",
              "    box-shadow: 0 1px 2px rgba(60, 64, 67, 0.3), 0 1px 3px 1px rgba(60, 64, 67, 0.15);\n",
              "    fill: var(--button-hover-fill-color);\n",
              "  }\n",
              "\n",
              "  .colab-df-quickchart-complete:disabled,\n",
              "  .colab-df-quickchart-complete:disabled:hover {\n",
              "    background-color: var(--disabled-bg-color);\n",
              "    fill: var(--disabled-fill-color);\n",
              "    box-shadow: none;\n",
              "  }\n",
              "\n",
              "  .colab-df-spinner {\n",
              "    border: 2px solid var(--fill-color);\n",
              "    border-color: transparent;\n",
              "    border-bottom-color: var(--fill-color);\n",
              "    animation:\n",
              "      spin 1s steps(1) infinite;\n",
              "  }\n",
              "\n",
              "  @keyframes spin {\n",
              "    0% {\n",
              "      border-color: transparent;\n",
              "      border-bottom-color: var(--fill-color);\n",
              "      border-left-color: var(--fill-color);\n",
              "    }\n",
              "    20% {\n",
              "      border-color: transparent;\n",
              "      border-left-color: var(--fill-color);\n",
              "      border-top-color: var(--fill-color);\n",
              "    }\n",
              "    30% {\n",
              "      border-color: transparent;\n",
              "      border-left-color: var(--fill-color);\n",
              "      border-top-color: var(--fill-color);\n",
              "      border-right-color: var(--fill-color);\n",
              "    }\n",
              "    40% {\n",
              "      border-color: transparent;\n",
              "      border-right-color: var(--fill-color);\n",
              "      border-top-color: var(--fill-color);\n",
              "    }\n",
              "    60% {\n",
              "      border-color: transparent;\n",
              "      border-right-color: var(--fill-color);\n",
              "    }\n",
              "    80% {\n",
              "      border-color: transparent;\n",
              "      border-right-color: var(--fill-color);\n",
              "      border-bottom-color: var(--fill-color);\n",
              "    }\n",
              "    90% {\n",
              "      border-color: transparent;\n",
              "      border-bottom-color: var(--fill-color);\n",
              "    }\n",
              "  }\n",
              "</style>\n",
              "\n",
              "  <script>\n",
              "    async function quickchart(key) {\n",
              "      const quickchartButtonEl =\n",
              "        document.querySelector('#' + key + ' button');\n",
              "      quickchartButtonEl.disabled = true;  // To prevent multiple clicks.\n",
              "      quickchartButtonEl.classList.add('colab-df-spinner');\n",
              "      try {\n",
              "        const charts = await google.colab.kernel.invokeFunction(\n",
              "            'suggestCharts', [key], {});\n",
              "      } catch (error) {\n",
              "        console.error('Error during call to suggestCharts:', error);\n",
              "      }\n",
              "      quickchartButtonEl.classList.remove('colab-df-spinner');\n",
              "      quickchartButtonEl.classList.add('colab-df-quickchart-complete');\n",
              "    }\n",
              "    (() => {\n",
              "      let quickchartButtonEl =\n",
              "        document.querySelector('#df-af1f6f82-dd4f-4897-bb47-94f1597f7d43 button');\n",
              "      quickchartButtonEl.style.display =\n",
              "        google.colab.kernel.accessAllowed ? 'block' : 'none';\n",
              "    })();\n",
              "  </script>\n",
              "</div>\n",
              "    </div>\n",
              "  </div>\n"
            ]
          },
          "metadata": {},
          "execution_count": 596
        }
      ]
    },
    {
      "cell_type": "code",
      "source": [
        "for i in l_num:\n",
        "    sns.histplot(df_bmw4[i], bins=20)\n",
        "    plt.title('Distribución '+ i)\n",
        "    plt.show()"
      ],
      "metadata": {
        "colab": {
          "base_uri": "https://localhost:8080/",
          "height": 1000
        },
        "id": "YqXOLLVcaVIy",
        "outputId": "2f79cfdc-6f9c-44dc-dcbe-3c3c7f60bf37"
      },
      "execution_count": 597,
      "outputs": [
        {
          "output_type": "display_data",
          "data": {
            "text/plain": [
              "<Figure size 640x480 with 1 Axes>"
            ],
            "image/png": "[encoded data removed]"
          },
          "metadata": {}
        },
        {
          "output_type": "display_data",
          "data": {
            "text/plain": [
              "<Figure size 640x480 with 1 Axes>"
            ],
            "image/png": "[encoded data removed]"
          },
          "metadata": {}
        },
        {
          "output_type": "display_data",
          "data": {
            "text/plain": [
              "<Figure size 640x480 with 1 Axes>"
            ],
            "image/png": "[encoded data removed]"
          },
          "metadata": {}
        }
      ]
    },
    {
      "cell_type": "markdown",
      "source": [
        "**km**\n"
      ],
      "metadata": {
        "id": "hdVLqJd5yK2H"
      }
    },
    {
      "cell_type": "code",
      "source": [
        "sns.boxplot(x=df_bmw4['km'])\n",
        "plt.title('Distribución km')\n",
        "plt.show()"
      ],
      "metadata": {
        "colab": {
          "base_uri": "https://localhost:8080/",
          "height": 472
        },
        "id": "hFEn6zKAPAVz",
        "outputId": "6093fb33-da8e-4b4f-9173-0b7c60537d93"
      },
      "execution_count": 598,
      "outputs": [
        {
          "output_type": "display_data",
          "data": {
            "text/plain": [
              "<Figure size 640x480 with 1 Axes>"
            ],
            "image/png": "[encoded data removed]"
          },
          "metadata": {}
        }
      ]
    },
    {
      "cell_type": "code",
      "source": [
        "df_bmw4[(df_bmw4['km'] < 0) | (df_bmw4['km'] > (0.4e+06))]\n",
        "\n",
        "# Vemos 2 outliers sin sentido  km = 1000376.0 y los km negativos\n",
        "# Es posible aunque poco probable que los km lleguen a unos 500.000"
      ],
      "metadata": {
        "colab": {
          "base_uri": "https://localhost:8080/",
          "height": 323
        },
        "id": "IcnvBVBOPUZr",
        "outputId": "332c6869-b7f5-41f6-fca5-01e97f48edb4"
      },
      "execution_count": 599,
      "outputs": [
        {
          "output_type": "execute_result",
          "data": {
            "text/plain": [
              "       precio          modelo         km  potencia tipo_gasolina   color  \\\n",
              "557    8300.0             520   484615.0     120.0        diesel    blue   \n",
              "1573   1800.0             320   400654.0     110.0        diesel   black   \n",
              "2350   1200.0             318   477571.0      85.0        diesel    grey   \n",
              "2829    100.0             525   439060.0     105.0        diesel  silver   \n",
              "2938  75000.0  640 Gran Coupé      -64.0     230.0        diesel   black   \n",
              "3198    500.0             320   405816.0     100.0        diesel    blue   \n",
              "3732   1400.0             118  1000376.0      90.0        diesel   black   \n",
              "\n",
              "     tipo_coche  volante_regulable  aire_acondicionado  camara_trasera  \\\n",
              "557      estate               True                True           False   \n",
              "1573     estate              False               False            True   \n",
              "2350     estate              False                True           False   \n",
              "2829     estate              False               False            True   \n",
              "2938      sedan               True                True           False   \n",
              "3198      sedan              False               False           False   \n",
              "3732  hatchback               True               False           False   \n",
              "\n",
              "      elevalunas_electrico  bluetooth  alerta_lim_velocidad  dias_antiguedad  \n",
              "557                  False      False                 False             2585  \n",
              "1573                 False      False                 False             4230  \n",
              "2350                 False       True                 False             1826  \n",
              "2829                 False      False                 False             1704  \n",
              "2938                 False      False                  True             1735  \n",
              "3198                 False      False                 False             6664  \n",
              "3732                 False      False                 False             4840  "
            ],
            "text/html": [
              "\n",
              "  <div id=\"df-3a131a6a-0341-466e-85b8-f5fa86fed426\" class=\"colab-df-container\">\n",
              "    <div>\n",
              "<style scoped>\n",
              "    .dataframe tbody tr th:only-of-type {\n",
              "        vertical-align: middle;\n",
              "    }\n",
              "\n",
              "    .dataframe tbody tr th {\n",
              "        vertical-align: top;\n",
              "    }\n",
              "\n",
              "    .dataframe thead th {\n",
              "        text-align: right;\n",
              "    }\n",
              "</style>\n",
              "<table border=\"1\" class=\"dataframe\">\n",
              "  <thead>\n",
              "    <tr style=\"text-align: right;\">\n",
              "      <th></th>\n",
              "      <th>precio</th>\n",
              "      <th>modelo</th>\n",
              "      <th>km</th>\n",
              "      <th>potencia</th>\n",
              "      <th>tipo_gasolina</th>\n",
              "      <th>color</th>\n",
              "      <th>tipo_coche</th>\n",
              "      <th>volante_regulable</th>\n",
              "      <th>aire_acondicionado</th>\n",
              "      <th>camara_trasera</th>\n",
              "      <th>elevalunas_electrico</th>\n",
              "      <th>bluetooth</th>\n",
              "      <th>alerta_lim_velocidad</th>\n",
              "      <th>dias_antiguedad</th>\n",
              "    </tr>\n",
              "  </thead>\n",
              "  <tbody>\n",
              "    <tr>\n",
              "      <th>557</th>\n",
              "      <td>8300.0</td>\n",
              "      <td>520</td>\n",
              "      <td>484615.0</td>\n",
              "      <td>120.0</td>\n",
              "      <td>diesel</td>\n",
              "      <td>blue</td>\n",
              "      <td>estate</td>\n",
              "      <td>True</td>\n",
              "      <td>True</td>\n",
              "      <td>False</td>\n",
              "      <td>False</td>\n",
              "      <td>False</td>\n",
              "      <td>False</td>\n",
              "      <td>2585</td>\n",
              "    </tr>\n",
              "    <tr>\n",
              "      <th>1573</th>\n",
              "      <td>1800.0</td>\n",
              "      <td>320</td>\n",
              "      <td>400654.0</td>\n",
              "      <td>110.0</td>\n",
              "      <td>diesel</td>\n",
              "      <td>black</td>\n",
              "      <td>estate</td>\n",
              "      <td>False</td>\n",
              "      <td>False</td>\n",
              "      <td>True</td>\n",
              "      <td>False</td>\n",
              "      <td>False</td>\n",
              "      <td>False</td>\n",
              "      <td>4230</td>\n",
              "    </tr>\n",
              "    <tr>\n",
              "      <th>2350</th>\n",
              "      <td>1200.0</td>\n",
              "      <td>318</td>\n",
              "      <td>477571.0</td>\n",
              "      <td>85.0</td>\n",
              "      <td>diesel</td>\n",
              "      <td>grey</td>\n",
              "      <td>estate</td>\n",
              "      <td>False</td>\n",
              "      <td>True</td>\n",
              "      <td>False</td>\n",
              "      <td>False</td>\n",
              "      <td>True</td>\n",
              "      <td>False</td>\n",
              "      <td>1826</td>\n",
              "    </tr>\n",
              "    <tr>\n",
              "      <th>2829</th>\n",
              "      <td>100.0</td>\n",
              "      <td>525</td>\n",
              "      <td>439060.0</td>\n",
              "      <td>105.0</td>\n",
              "      <td>diesel</td>\n",
              "      <td>silver</td>\n",
              "      <td>estate</td>\n",
              "      <td>False</td>\n",
              "      <td>False</td>\n",
              "      <td>True</td>\n",
              "      <td>False</td>\n",
              "      <td>False</td>\n",
              "      <td>False</td>\n",
              "      <td>1704</td>\n",
              "    </tr>\n",
              "    <tr>\n",
              "      <th>2938</th>\n",
              "      <td>75000.0</td>\n",
              "      <td>640 Gran Coupé</td>\n",
              "      <td>-64.0</td>\n",
              "      <td>230.0</td>\n",
              "      <td>diesel</td>\n",
              "      <td>black</td>\n",
              "      <td>sedan</td>\n",
              "      <td>True</td>\n",
              "      <td>True</td>\n",
              "      <td>False</td>\n",
              "      <td>False</td>\n",
              "      <td>False</td>\n",
              "      <td>True</td>\n",
              "      <td>1735</td>\n",
              "    </tr>\n",
              "    <tr>\n",
              "      <th>3198</th>\n",
              "      <td>500.0</td>\n",
              "      <td>320</td>\n",
              "      <td>405816.0</td>\n",
              "      <td>100.0</td>\n",
              "      <td>diesel</td>\n",
              "      <td>blue</td>\n",
              "      <td>sedan</td>\n",
              "      <td>False</td>\n",
              "      <td>False</td>\n",
              "      <td>False</td>\n",
              "      <td>False</td>\n",
              "      <td>False</td>\n",
              "      <td>False</td>\n",
              "      <td>6664</td>\n",
              "    </tr>\n",
              "    <tr>\n",
              "      <th>3732</th>\n",
              "      <td>1400.0</td>\n",
              "      <td>118</td>\n",
              "      <td>1000376.0</td>\n",
              "      <td>90.0</td>\n",
              "      <td>diesel</td>\n",
              "      <td>black</td>\n",
              "      <td>hatchback</td>\n",
              "      <td>True</td>\n",
              "      <td>False</td>\n",
              "      <td>False</td>\n",
              "      <td>False</td>\n",
              "      <td>False</td>\n",
              "      <td>False</td>\n",
              "      <td>4840</td>\n",
              "    </tr>\n",
              "  </tbody>\n",
              "</table>\n",
              "</div>\n",
              "    <div class=\"colab-df-buttons\">\n",
              "\n",
              "  <div class=\"colab-df-container\">\n",
              "    <button class=\"colab-df-convert\" onclick=\"convertToInteractive('df-3a131a6a-0341-466e-85b8-f5fa86fed426')\"\n",
              "            title=\"Convert this dataframe to an interactive table.\"\n",
              "            style=\"display:none;\">\n",
              "\n",
              "  <svg xmlns=\"http://www.w3.org/2000/svg\" height=\"24px\" viewBox=\"0 -960 960 960\">\n",
              "    <path d=\"M120-120v-720h720v720H120Zm60-500h600v-160H180v160Zm220 220h160v-160H400v160Zm0 220h160v-160H400v160ZM180-400h160v-160H180v160Zm440 0h160v-160H620v160ZM180-180h160v-160H180v160Zm440 0h160v-160H620v160Z\"/>\n",
              "  </svg>\n",
              "    </button>\n",
              "\n",
              "  <style>\n",
              "    .colab-df-container {\n",
              "      display:flex;\n",
              "      gap: 12px;\n",
              "    }\n",
              "\n",
              "    .colab-df-convert {\n",
              "      background-color: #E8F0FE;\n",
              "      border: none;\n",
              "      border-radius: 50%;\n",
              "      cursor: pointer;\n",
              "      display: none;\n",
              "      fill: #1967D2;\n",
              "      height: 32px;\n",
              "      padding: 0 0 0 0;\n",
              "      width: 32px;\n",
              "    }\n",
              "\n",
              "    .colab-df-convert:hover {\n",
              "      background-color: #E2EBFA;\n",
              "      box-shadow: 0px 1px 2px rgba(60, 64, 67, 0.3), 0px 1px 3px 1px rgba(60, 64, 67, 0.15);\n",
              "      fill: #174EA6;\n",
              "    }\n",
              "\n",
              "    .colab-df-buttons div {\n",
              "      margin-bottom: 4px;\n",
              "    }\n",
              "\n",
              "    [theme=dark] .colab-df-convert {\n",
              "      background-color: #3B4455;\n",
              "      fill: #D2E3FC;\n",
              "    }\n",
              "\n",
              "    [theme=dark] .colab-df-convert:hover {\n",
              "      background-color: #434B5C;\n",
              "      box-shadow: 0px 1px 3px 1px rgba(0, 0, 0, 0.15);\n",
              "      filter: drop-shadow(0px 1px 2px rgba(0, 0, 0, 0.3));\n",
              "      fill: #FFFFFF;\n",
              "    }\n",
              "  </style>\n",
              "\n",
              "    <script>\n",
              "      const buttonEl =\n",
              "        document.querySelector('#df-3a131a6a-0341-466e-85b8-f5fa86fed426 button.colab-df-convert');\n",
              "      buttonEl.style.display =\n",
              "        google.colab.kernel.accessAllowed ? 'block' : 'none';\n",
              "\n",
              "      async function convertToInteractive(key) {\n",
              "        const element = document.querySelector('#df-3a131a6a-0341-466e-85b8-f5fa86fed426');\n",
              "        const dataTable =\n",
              "          await google.colab.kernel.invokeFunction('convertToInteractive',\n",
              "                                                    [key], {});\n",
              "        if (!dataTable) return;\n",
              "\n",
              "        const docLinkHtml = 'Like what you see? Visit the ' +\n",
              "          '<a target=\"_blank\" href=https://colab.research.google.com/notebooks/data_table.ipynb>data table notebook</a>'\n",
              "          + ' to learn more about interactive tables.';\n",
              "        element.innerHTML = '';\n",
              "        dataTable['output_type'] = 'display_data';\n",
              "        await google.colab.output.renderOutput(dataTable, element);\n",
              "        const docLink = document.createElement('div');\n",
              "        docLink.innerHTML = docLinkHtml;\n",
              "        element.appendChild(docLink);\n",
              "      }\n",
              "    </script>\n",
              "  </div>\n",
              "\n",
              "\n",
              "<div id=\"df-11010567-ddb8-49a1-959f-3be987f9b695\">\n",
              "  <button class=\"colab-df-quickchart\" onclick=\"quickchart('df-11010567-ddb8-49a1-959f-3be987f9b695')\"\n",
              "            title=\"Suggest charts\"\n",
              "            style=\"display:none;\">\n",
              "\n",
              "<svg xmlns=\"http://www.w3.org/2000/svg\" height=\"24px\"viewBox=\"0 0 24 24\"\n",
              "     width=\"24px\">\n",
              "    <g>\n",
              "        <path d=\"M19 3H5c-1.1 0-2 .9-2 2v14c0 1.1.9 2 2 2h14c1.1 0 2-.9 2-2V5c0-1.1-.9-2-2-2zM9 17H7v-7h2v7zm4 0h-2V7h2v10zm4 0h-2v-4h2v4z\"/>\n",
              "    </g>\n",
              "</svg>\n",
              "  </button>\n",
              "\n",
              "<style>\n",
              "  .colab-df-quickchart {\n",
              "      --bg-color: #E8F0FE;\n",
              "      --fill-color: #1967D2;\n",
              "      --hover-bg-color: #E2EBFA;\n",
              "      --hover-fill-color: #174EA6;\n",
              "      --disabled-fill-color: #AAA;\n",
              "      --disabled-bg-color: #DDD;\n",
              "  }\n",
              "\n",
              "  [theme=dark] .colab-df-quickchart {\n",
              "      --bg-color: #3B4455;\n",
              "      --fill-color: #D2E3FC;\n",
              "      --hover-bg-color: #434B5C;\n",
              "      --hover-fill-color: #FFFFFF;\n",
              "      --disabled-bg-color: #3B4455;\n",
              "      --disabled-fill-color: #666;\n",
              "  }\n",
              "\n",
              "  .colab-df-quickchart {\n",
              "    background-color: var(--bg-color);\n",
              "    border: none;\n",
              "    border-radius: 50%;\n",
              "    cursor: pointer;\n",
              "    display: none;\n",
              "    fill: var(--fill-color);\n",
              "    height: 32px;\n",
              "    padding: 0;\n",
              "    width: 32px;\n",
              "  }\n",
              "\n",
              "  .colab-df-quickchart:hover {\n",
              "    background-color: var(--hover-bg-color);\n",
              "    box-shadow: 0 1px 2px rgba(60, 64, 67, 0.3), 0 1px 3px 1px rgba(60, 64, 67, 0.15);\n",
              "    fill: var(--button-hover-fill-color);\n",
              "  }\n",
              "\n",
              "  .colab-df-quickchart-complete:disabled,\n",
              "  .colab-df-quickchart-complete:disabled:hover {\n",
              "    background-color: var(--disabled-bg-color);\n",
              "    fill: var(--disabled-fill-color);\n",
              "    box-shadow: none;\n",
              "  }\n",
              "\n",
              "  .colab-df-spinner {\n",
              "    border: 2px solid var(--fill-color);\n",
              "    border-color: transparent;\n",
              "    border-bottom-color: var(--fill-color);\n",
              "    animation:\n",
              "      spin 1s steps(1) infinite;\n",
              "  }\n",
              "\n",
              "  @keyframes spin {\n",
              "    0% {\n",
              "      border-color: transparent;\n",
              "      border-bottom-color: var(--fill-color);\n",
              "      border-left-color: var(--fill-color);\n",
              "    }\n",
              "    20% {\n",
              "      border-color: transparent;\n",
              "      border-left-color: var(--fill-color);\n",
              "      border-top-color: var(--fill-color);\n",
              "    }\n",
              "    30% {\n",
              "      border-color: transparent;\n",
              "      border-left-color: var(--fill-color);\n",
              "      border-top-color: var(--fill-color);\n",
              "      border-right-color: var(--fill-color);\n",
              "    }\n",
              "    40% {\n",
              "      border-color: transparent;\n",
              "      border-right-color: var(--fill-color);\n",
              "      border-top-color: var(--fill-color);\n",
              "    }\n",
              "    60% {\n",
              "      border-color: transparent;\n",
              "      border-right-color: var(--fill-color);\n",
              "    }\n",
              "    80% {\n",
              "      border-color: transparent;\n",
              "      border-right-color: var(--fill-color);\n",
              "      border-bottom-color: var(--fill-color);\n",
              "    }\n",
              "    90% {\n",
              "      border-color: transparent;\n",
              "      border-bottom-color: var(--fill-color);\n",
              "    }\n",
              "  }\n",
              "</style>\n",
              "\n",
              "  <script>\n",
              "    async function quickchart(key) {\n",
              "      const quickchartButtonEl =\n",
              "        document.querySelector('#' + key + ' button');\n",
              "      quickchartButtonEl.disabled = true;  // To prevent multiple clicks.\n",
              "      quickchartButtonEl.classList.add('colab-df-spinner');\n",
              "      try {\n",
              "        const charts = await google.colab.kernel.invokeFunction(\n",
              "            'suggestCharts', [key], {});\n",
              "      } catch (error) {\n",
              "        console.error('Error during call to suggestCharts:', error);\n",
              "      }\n",
              "      quickchartButtonEl.classList.remove('colab-df-spinner');\n",
              "      quickchartButtonEl.classList.add('colab-df-quickchart-complete');\n",
              "    }\n",
              "    (() => {\n",
              "      let quickchartButtonEl =\n",
              "        document.querySelector('#df-11010567-ddb8-49a1-959f-3be987f9b695 button');\n",
              "      quickchartButtonEl.style.display =\n",
              "        google.colab.kernel.accessAllowed ? 'block' : 'none';\n",
              "    })();\n",
              "  </script>\n",
              "</div>\n",
              "    </div>\n",
              "  </div>\n"
            ]
          },
          "metadata": {},
          "execution_count": 599
        }
      ]
    },
    {
      "cell_type": "code",
      "source": [
        "#Sustituimos los outliers por la mediana del df sin outliers\n",
        "df_sin_outliers = df_bmw4[(df_bmw4['km'] >= 0) & (df_bmw4['km'] < (1e+06))]\n",
        "\n",
        "\n",
        "df_bmw4['km'] = np.where((df_bmw4['km'] < 0) | (df_bmw4['km'] > (1e+06)),\n",
        "                         df_sin_outliers['km'].median(),\n",
        "                         df_bmw4['km'])"
      ],
      "metadata": {
        "id": "SP3C8CoEUKo3"
      },
      "execution_count": 600,
      "outputs": []
    },
    {
      "cell_type": "markdown",
      "source": [
        "**Potencia**"
      ],
      "metadata": {
        "id": "_A18ZPNHyTeQ"
      }
    },
    {
      "cell_type": "code",
      "source": [
        "sns.boxplot(x=df_bmw4['potencia'])\n",
        "plt.title('Distribución potencia')\n",
        "plt.show()"
      ],
      "metadata": {
        "id": "wCICnWIAPKRN"
      },
      "execution_count": null,
      "outputs": []
    },
    {
      "cell_type": "code",
      "source": [
        "df_bmw4[df_bmw4['potencia'] < 50]\n",
        "# si parecen outliers, los eliminaremos"
      ],
      "metadata": {
        "id": "IGUz2EvkPRKd"
      },
      "execution_count": null,
      "outputs": []
    },
    {
      "cell_type": "code",
      "source": [
        "# Aunque parece que por encima de 200 ya encontramos outliers, lo cierto es que si es posible que lleguen a esa potencia\n",
        "# No los eliminaremos\n",
        "\n",
        "df_bmw4[df_bmw4['potencia'] > 300]"
      ],
      "metadata": {
        "id": "o3oTS50bQPt_"
      },
      "execution_count": null,
      "outputs": []
    },
    {
      "cell_type": "code",
      "source": [
        "#Sustituimos los outliers por la mediana del df sin outliers\n",
        "df_sin_outliers = df_bmw4[df_bmw4['potencia']>=50]\n",
        "\n",
        "df_bmw4['potencia'] = np.where((df_bmw4['potencia']<50),\n",
        "                         df_sin_outliers['potencia'].median(),\n",
        "                         df_bmw4['potencia'])"
      ],
      "metadata": {
        "id": "9Msy5AaCQNWZ"
      },
      "execution_count": null,
      "outputs": []
    },
    {
      "cell_type": "markdown",
      "source": [
        "**Dias_antiguedad**"
      ],
      "metadata": {
        "id": "yHrrGLF4YlnU"
      }
    },
    {
      "cell_type": "code",
      "source": [
        "# antigüedad de 28 años tiene sentido\n",
        "\n",
        "df_bmw4['dias_antiguedad'].max() / 365"
      ],
      "metadata": {
        "id": "6uM2A1UZY5xQ"
      },
      "execution_count": null,
      "outputs": []
    },
    {
      "cell_type": "code",
      "source": [
        "# No pueden ser negativos\n",
        "\n",
        "df_bmw4[df_bmw4['dias_antiguedad'] < 0]"
      ],
      "metadata": {
        "id": "y5gYUtiyZEtz"
      },
      "execution_count": null,
      "outputs": []
    },
    {
      "cell_type": "code",
      "source": [
        "#Sustituimos los outliers por la mediana del df sin outliers\n",
        "df_sin_outliers = df_bmw4[df_bmw4['dias_antiguedad'] >= 0]\n",
        "\n",
        "df_bmw4['dias_antiguedad'] = np.where((df_bmw4['dias_antiguedad'] < 0),\n",
        "                         df_sin_outliers['dias_antiguedad'].median(),\n",
        "                         df_bmw4['dias_antiguedad'])"
      ],
      "metadata": {
        "id": "2XCvvX3GZSrn"
      },
      "execution_count": null,
      "outputs": []
    },
    {
      "cell_type": "markdown",
      "source": [
        "**Comprobamos**"
      ],
      "metadata": {
        "id": "y-yPHorHcCr9"
      }
    },
    {
      "cell_type": "code",
      "source": [
        "df_bmw4.describe().T"
      ],
      "metadata": {
        "id": "DIwjV1LYcD37"
      },
      "execution_count": null,
      "outputs": []
    },
    {
      "cell_type": "markdown",
      "source": [
        "# Paso 4 Análisis de correlación\n",
        "\n",
        "Análisis de correlación inicial, ¿Hay alguna variable correlacionada?\n",
        "\n",
        "\n",
        "> 1. Potencia: tiene un 0.64 de correlación con el precio.\n",
        "2. Alerta límite de velocidad: 0.43 de corr con el precio.\n",
        "3. km: -0.41\n",
        "4. dias_antiguedad = -0.3\n",
        "\n"
      ],
      "metadata": {
        "id": "xVzs1wuE3_PO"
      }
    },
    {
      "cell_type": "code",
      "source": [
        "corr = df_bmw4.corr(numeric_only = True)\n",
        "corr.style.background_gradient(cmap='Oranges')"
      ],
      "metadata": {
        "id": "Jlon8GUuGWeQ"
      },
      "execution_count": null,
      "outputs": []
    },
    {
      "cell_type": "markdown",
      "source": [
        "# Paso 5 Análisis variable\n",
        "\n",
        "Análisis variable vs target, ¿Hay algún insight interesante?\n",
        "\n",
        ">1. **Km y dias_antiguedad:** Se puede ver claramente una relación inversamente proporcinal. Cuantos más km tiene o más antigüo es, menor es el precio\n",
        "2. **Potencia:** También vemos como a medida que la potencia sube el precio también aunque es menos evidente que el caso anterior\n"
      ],
      "metadata": {
        "id": "9FhR3GUk4HB-"
      }
    },
    {
      "cell_type": "markdown",
      "source": [
        "## Análisis target"
      ],
      "metadata": {
        "id": "0wL4NbIw5Tcv"
      }
    },
    {
      "cell_type": "markdown",
      "source": [
        "Parece que hay muchos outliers pero no los eliminaremos ya que en realidad tienen sentido, es posible que simplemente hayan datos de coches más caros, pero a la hora de predecir pueden sernos útiles"
      ],
      "metadata": {
        "id": "mS9IrSML169Q"
      }
    },
    {
      "cell_type": "code",
      "source": [
        "df_bmw5 = df_bmw4.copy()"
      ],
      "metadata": {
        "id": "U_W3pa1l4KG8"
      },
      "execution_count": null,
      "outputs": []
    },
    {
      "cell_type": "code",
      "source": [
        "df_bmw5['precio'].describe()"
      ],
      "metadata": {
        "id": "uDUTNL93Q2l5"
      },
      "execution_count": null,
      "outputs": []
    },
    {
      "cell_type": "code",
      "source": [
        "sns.histplot(df_bmw5['precio'], bins=20)\n",
        "plt.title('Distribución precio')\n",
        "plt.show()"
      ],
      "metadata": {
        "id": "THw1-Ei0bHj-"
      },
      "execution_count": null,
      "outputs": []
    },
    {
      "cell_type": "code",
      "source": [
        "# Aunque nos salga que los precios entre 30000 y 180000 son outliers, considero que son precios posibles para una coche\n",
        "# no eliminaremos esos valores ya que nos puede ayudar en un futuro a predecir el valor de coches de alta gama\n",
        "sns.boxplot(x=df_bmw5['precio'])"
      ],
      "metadata": {
        "id": "a-pE33lE7UOA"
      },
      "execution_count": null,
      "outputs": []
    },
    {
      "cell_type": "code",
      "source": [
        "df_bmw5[df_bmw5['precio'] < 500]\n",
        "\n",
        "# no tiene sentido que hayan coches por menos de 500"
      ],
      "metadata": {
        "id": "OCsx0egrr03u"
      },
      "execution_count": null,
      "outputs": []
    },
    {
      "cell_type": "code",
      "source": [
        "df_bmw5.drop(df_bmw5[(df_bmw5['precio'] < 500)].index, inplace = True)"
      ],
      "metadata": {
        "id": "B6m-HdXH65kH"
      },
      "execution_count": null,
      "outputs": []
    },
    {
      "cell_type": "markdown",
      "source": [
        "Creo la columna log_precio"
      ],
      "metadata": {
        "id": "sKxgu1N7mqcW"
      }
    },
    {
      "cell_type": "code",
      "source": [
        "df_bmw5['log_precio'] = np.log10(df_bmw5['precio'])"
      ],
      "metadata": {
        "id": "NjzRhhPf6BGi"
      },
      "execution_count": null,
      "outputs": []
    },
    {
      "cell_type": "code",
      "source": [
        "# Aunque si que podemos ver un montón de outliers tenemos una distribución normal\n",
        "sns.histplot(df_bmw5['log_precio'], bins=30)\n",
        "plt.title('Distribución log_precio')\n",
        "plt.show()"
      ],
      "metadata": {
        "id": "4rbV6aF26Jxj"
      },
      "execution_count": null,
      "outputs": []
    },
    {
      "cell_type": "markdown",
      "source": [
        "## Análisis numericas"
      ],
      "metadata": {
        "id": "JlMwWXKrj8ny"
      }
    },
    {
      "cell_type": "markdown",
      "source": [
        "km y dias_antiguedad tienen correlación inversamente proporcional, lo cual tiene sentido, cuanto más antigüo es el coche, o más km tiene menor es el precio\n",
        "\n",
        "potencia en cambio tiene una correlación proporcional. Cuanta más potencia mayor es el precio"
      ],
      "metadata": {
        "id": "ZurtI59C0nvP"
      }
    },
    {
      "cell_type": "code",
      "source": [
        "target = ['precio', 'log_precio']"
      ],
      "metadata": {
        "id": "chWz3Gnpk6iQ"
      },
      "execution_count": null,
      "outputs": []
    },
    {
      "cell_type": "code",
      "source": [
        "l_num2, l_bool2, l_cat2 = obtener_lista_variables(df_bmw5)"
      ],
      "metadata": {
        "id": "ZIzXs7_fbBLP"
      },
      "execution_count": null,
      "outputs": []
    },
    {
      "cell_type": "code",
      "source": [
        "plt.figure(figsize=(12, 10))\n",
        "sns.pairplot(df_bmw5, x_vars=l_num2, y_vars='precio', height=4)\n",
        "plt.title('Categoricas vs. Precio', fontsize=20)\n",
        "plt.show()"
      ],
      "metadata": {
        "id": "4AQqQCeHbMOp"
      },
      "execution_count": null,
      "outputs": []
    },
    {
      "cell_type": "markdown",
      "source": [
        "## Análisis categóricas"
      ],
      "metadata": {
        "id": "Ur_9ONz2j_JS"
      }
    },
    {
      "cell_type": "code",
      "source": [
        "plt.figure(figsize=(12, 10))\n",
        "sns.pairplot(df_bmw5, x_vars=l_cat2, y_vars='precio', height=4)\n",
        "plt.title('Categoricas vs. Precio', fontsize=20)\n",
        "plt.show()"
      ],
      "metadata": {
        "id": "iY2R37E4bYhP"
      },
      "execution_count": null,
      "outputs": []
    },
    {
      "cell_type": "markdown",
      "source": [
        "## Análisis boleanas"
      ],
      "metadata": {
        "id": "eH_M7yY_kBO4"
      }
    },
    {
      "cell_type": "code",
      "source": [
        "plt.figure(figsize=(12, 10))\n",
        "sns.pairplot(df_bmw5, x_vars=l_bool2, y_vars='precio', height=4)\n",
        "plt.title('Boleanas vs. Precio', fontsize=20)\n",
        "plt.show()"
      ],
      "metadata": {
        "id": "FgI8TRs0Y1Nw"
      },
      "execution_count": null,
      "outputs": []
    },
    {
      "cell_type": "code",
      "source": [
        "plt.figure(figsize=(12, 10))\n",
        "\n",
        "for col in l_bool2:\n",
        "    plt.subplot(3, 3, l_bool2.index(col) + 1)  # 3 filas, 3 columnas\n",
        "    sns.violinplot(x=df_bmw5[col], y=df_bmw5['precio'])\n",
        "\n",
        "plt.tight_layout()  # evitar superposiciones\n",
        "plt.show()"
      ],
      "metadata": {
        "id": "7k6MJ4NPhnFv"
      },
      "execution_count": null,
      "outputs": []
    },
    {
      "cell_type": "markdown",
      "source": [
        "# Paso 6 de categóricas a numéricas\n",
        "\n",
        "Transformación de categóricas a numéricas, ¿Qué variables vas a transformar? ¿Que técnica se va usar?\n",
        "\n",
        "> *R: las variables categóricas que vamos a tranformar son: ['modelo', 'tipo_gasolina', 'color', 'tipo_coche'] con el método One hot encoding*\n",
        "\n"
      ],
      "metadata": {
        "id": "6SibYo1V4KTy"
      }
    },
    {
      "cell_type": "markdown",
      "source": [
        "## Generar la lista de categóricas"
      ],
      "metadata": {
        "id": "-aKLSnE2Uibs"
      }
    },
    {
      "cell_type": "code",
      "source": [
        "df_bmw6 = df_bmw5.copy()"
      ],
      "metadata": {
        "id": "rPr5NXG7Udha"
      },
      "execution_count": null,
      "outputs": []
    },
    {
      "cell_type": "code",
      "source": [
        "target = ['precio', 'log_precio']"
      ],
      "metadata": {
        "id": "iYHx_TEE3Y4o"
      },
      "execution_count": null,
      "outputs": []
    },
    {
      "cell_type": "code",
      "source": [
        "l_num3, l_bool3, l_cat3 = obtener_lista_variables(df_bmw6)"
      ],
      "metadata": {
        "id": "Qo53rcoO3c15"
      },
      "execution_count": null,
      "outputs": []
    },
    {
      "cell_type": "code",
      "source": [
        "l_cat3"
      ],
      "metadata": {
        "id": "QP8BG4q13ouS"
      },
      "execution_count": null,
      "outputs": []
    },
    {
      "cell_type": "code",
      "source": [
        "for i in l_cat3:\n",
        "  print(i, df_bmw6[i].unique(), '\\n')"
      ],
      "metadata": {
        "id": "0Det7sUoI90K"
      },
      "execution_count": null,
      "outputs": []
    },
    {
      "cell_type": "markdown",
      "source": [
        "## One hot encoding"
      ],
      "metadata": {
        "id": "EU7rAmVIQTbm"
      }
    },
    {
      "cell_type": "code",
      "source": [
        "df_bmw6 = pd.get_dummies(data=df_bmw6, columns = l_cat2)"
      ],
      "metadata": {
        "id": "IzTyNXYz21ps"
      },
      "execution_count": null,
      "outputs": []
    },
    {
      "cell_type": "code",
      "source": [
        "df_bmw6.head()"
      ],
      "metadata": {
        "id": "QU5BPIq34K7L"
      },
      "execution_count": null,
      "outputs": []
    },
    {
      "cell_type": "markdown",
      "source": [
        "# Paso 7 minmaxscaler\n",
        "\n",
        "Escalar variables (usando minmaxscaler)\n"
      ],
      "metadata": {
        "id": "sXdd4WLN4PIx"
      }
    },
    {
      "cell_type": "code",
      "source": [
        "df_bmw7 = df_bmw6.copy()"
      ],
      "metadata": {
        "id": "YfNn4d7X4QuC"
      },
      "execution_count": null,
      "outputs": []
    },
    {
      "cell_type": "code",
      "source": [
        "minMaxResultado = MinMaxScaler()"
      ],
      "metadata": {
        "id": "e21ZpYGvdTDb"
      },
      "execution_count": null,
      "outputs": []
    },
    {
      "cell_type": "code",
      "source": [
        "l_num3"
      ],
      "metadata": {
        "id": "XsG8rTtoVF4l"
      },
      "execution_count": null,
      "outputs": []
    },
    {
      "cell_type": "code",
      "source": [
        "df_bmw7[l_num3] = minMaxResultado.fit_transform(df_bmw7[l_num3])"
      ],
      "metadata": {
        "id": "BQyWCBGhd1m1"
      },
      "execution_count": null,
      "outputs": []
    },
    {
      "cell_type": "code",
      "source": [
        "df_bmw7.head()"
      ],
      "metadata": {
        "id": "EOC_9Tcud9tz"
      },
      "execution_count": null,
      "outputs": []
    },
    {
      "cell_type": "markdown",
      "source": [
        "#Paso 8 Elimino columnas con muy alta o muy poca correlación"
      ],
      "metadata": {
        "id": "TxROJyl9m-0w"
      }
    },
    {
      "cell_type": "code",
      "source": [
        "df_bmw8 = df_bmw7.copy()"
      ],
      "metadata": {
        "id": "w7Hy_jD1noeS"
      },
      "execution_count": null,
      "outputs": []
    },
    {
      "cell_type": "markdown",
      "source": [
        "## Alta correlación"
      ],
      "metadata": {
        "id": "JpM_nGHMnHo_"
      }
    },
    {
      "cell_type": "code",
      "source": [
        "df_prueba = df_bmw8[['tipo_gasolina_diesel', 'tipo_gasolina_petrol']]"
      ],
      "metadata": {
        "id": "xD_BQP7Zsa8g"
      },
      "execution_count": null,
      "outputs": []
    },
    {
      "cell_type": "code",
      "source": [
        "# Mismo analisis, pero desde una funcion que nos facilita la vida\n",
        "def highly_correlated(X, y, threshold):\n",
        "    col_corr = list() # Set of all the names of deleted columns\n",
        "    colnames = list()\n",
        "    rownames = list()\n",
        "    corr_matrix = df_bmw8.corr().abs()\n",
        "\n",
        "    for i in range(len(corr_matrix.columns)):\n",
        "        for j in range(i):\n",
        "            if (corr_matrix.iloc[i, j] >= threshold) and (corr_matrix.columns[j] not in col_corr):\n",
        "                colnames.append(corr_matrix.columns[i]) # getting the name of column\n",
        "                rownames.append(corr_matrix.index[j])\n",
        "                col_corr.append(corr_matrix.iloc[i, j])\n",
        "\n",
        "    Z = pd.DataFrame({'F1':colnames,\n",
        "                      'F2':rownames,\n",
        "                      'corr_F1_F2':col_corr,\n",
        "                      'corr_F1_target': [np.abs(np.corrcoef(X[i],y)[0,1]) for i in colnames],\n",
        "                      'corr_F2_target': [np.abs(np.corrcoef(X[i],y)[0,1]) for i in rownames]\n",
        "                      })\n",
        "    Z['to_delete'] = rownames\n",
        "    Z['to_delete'][Z['corr_F1_target'] < Z['corr_F2_target']] = Z['F1'][Z['corr_F1_target'] < Z['corr_F2_target']]\n",
        "\n",
        "    return Z\n",
        "\n",
        "highly_corr = highly_correlated(df_bmw8,y,0.95)\n",
        "highly_corr\n",
        "\n",
        "# esta función nos devuelve dos variables con una correlación superior a 0.95\n",
        "# además nos dice cual de las dos eliminar, aquella que está menos correlacionada con el target"
      ],
      "metadata": {
        "id": "hLZ-JgWdneCp"
      },
      "execution_count": null,
      "outputs": []
    },
    {
      "cell_type": "code",
      "source": [
        "# Compruebo que sea verdad\n",
        "sns.heatmap(df_prueba.corr().abs(),annot=True)\n",
        "plt.show()"
      ],
      "metadata": {
        "id": "rI-TaW5rsuUx"
      },
      "execution_count": null,
      "outputs": []
    },
    {
      "cell_type": "code",
      "source": [
        "# Eliminamos las columnas altamente correlacionadas y nos quedamos con la que tenga mayor correlación con el target\n",
        "drop_cols = list(highly_corr['to_delete'])\n",
        "df_bmw8.drop(columns=drop_cols, inplace=True)\n",
        "print('Eliminadas columnas altamente correlacionadas:', drop_cols)"
      ],
      "metadata": {
        "id": "jfyJA9pIoYwS"
      },
      "execution_count": null,
      "outputs": []
    },
    {
      "cell_type": "markdown",
      "source": [
        "##Baja varianza"
      ],
      "metadata": {
        "id": "xhKYScPLpU05"
      }
    },
    {
      "cell_type": "code",
      "source": [
        "def features_con_baja_correlacion(df, target_column, threshold=0.01):\n",
        "    correlaciones = df.corr().abs()[target_column]  # Calcula la matriz de correlación entre las características y el precio\n",
        "    features_con_baja_corr = correlaciones[correlaciones < threshold].index.tolist()     # Filtra las características con correlación menor al umbral\n",
        "\n",
        "    return features_con_baja_corr\n",
        "\n",
        "\n",
        "features_baja_correlacion = features_con_baja_correlacion(df_bmw8, target_column='precio', threshold=0.01)\n",
        "print(features_baja_correlacion)"
      ],
      "metadata": {
        "id": "li9cahG4q5nx"
      },
      "execution_count": null,
      "outputs": []
    },
    {
      "cell_type": "code",
      "source": [
        "drop_cols = list(features_baja_correlacion)\n",
        "df_bmw8.drop(columns=drop_cols, inplace=True)\n",
        "print('Eliminadas columnas altamente correlacionadas:', drop_cols)"
      ],
      "metadata": {
        "id": "pCpN5K_prNTb"
      },
      "execution_count": null,
      "outputs": []
    },
    {
      "cell_type": "markdown",
      "source": [
        "# Paso 9 Correlación final\n",
        "Luego aplicar la correlación final de variables ¿Hay alguna variable finalmente correlacionada?\n",
        "\n",
        "> Las 3 variables más correlacionadas con el precio son:\n",
        "1. Potencia: 0.641031\n",
        "2. alerta_lim_velocidad:\t0.434407\n",
        "3. km:\t0.407851\n"
      ],
      "metadata": {
        "id": "6weYXf8_trzM"
      }
    },
    {
      "cell_type": "code",
      "source": [
        "# De más corrlacionado con el precio a menos\n",
        "corr = df_bmw8.corr().abs()[\"precio\"].sort_values(ascending=False).to_frame()\n",
        "corr.style.background_gradient(cmap='Oranges')"
      ],
      "metadata": {
        "id": "hvkVWhhs9gXt"
      },
      "execution_count": null,
      "outputs": []
    },
    {
      "cell_type": "code",
      "source": [
        "corr = df_bmw8.corr(numeric_only = True)\n",
        "corr.style.background_gradient(cmap='Oranges')"
      ],
      "metadata": {
        "id": "eeD22JhStvHL"
      },
      "execution_count": null,
      "outputs": []
    },
    {
      "cell_type": "markdown",
      "source": [
        "#Paso 10 Excel"
      ],
      "metadata": {
        "id": "1T54TwEOYJF6"
      }
    },
    {
      "cell_type": "code",
      "source": [
        "df_bmw8.info()"
      ],
      "metadata": {
        "id": "MZQ44DigD3A0"
      },
      "execution_count": null,
      "outputs": []
    },
    {
      "cell_type": "code",
      "source": [
        "df_50filas = df_bmw8.loc[:49,:]"
      ],
      "metadata": {
        "id": "ddY_eVC-DBut"
      },
      "execution_count": null,
      "outputs": []
    },
    {
      "cell_type": "code",
      "source": [
        "#Pasar a excel las primeras 50 filas\n",
        "df_50filas.to_excel('/content/drive/MyDrive/Nuclio/M3. Data Analytics y Business Intelligence/Entregable 1/bmw_final.xlsx')"
      ],
      "metadata": {
        "id": "w_N-XHveYLFd"
      },
      "execution_count": null,
      "outputs": []
    }
  ]
}